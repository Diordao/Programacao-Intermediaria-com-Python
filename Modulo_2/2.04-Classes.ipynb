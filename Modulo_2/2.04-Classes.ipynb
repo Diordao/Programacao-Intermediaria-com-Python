{
 "cells": [
  {
   "cell_type": "markdown",
   "metadata": {},
   "source": [
    "> Projeto Desenvolve <br>\n",
    "Programação Intermediária com Python <br>\n",
    "Profa. Camila Laranjeira (mila@projetodesenvolve.com.br) <br>\n",
    "\n",
    "# 2.4 - Classes, atributos e métodos"
   ]
  },
  {
   "cell_type": "markdown",
   "metadata": {},
   "source": [
    "## Exercícios\n",
    "\n",
    "#### Q1.\n",
    "Vamos criar aos pouquinhos uma classe Evento que registra eventos de um calendário. Pra começar, nessa questão você deve:\n",
    "\n",
    "* Criar uma classe chamada Evento\n",
    "* Adicionar um atributo de classe `total_eventos` que será usado para contar o número total de eventos (instâncias de classe) criadas.\n",
    "* Implemente o método construtor que deve receber os parâmetros `titulo` (`string`), `data_hora` (`datetime`), `descrição` (`string`). Crie e inicialize um atributo de instância para cada um dos parâmetros citados.\n",
    "* O construtor também deve inicializar um atributo de instância `is_concluido = False`. Esse atributo será utilizado mais à frente. \n",
    "* No construtor você também deve incrementar o atributo de classe `total_eventos` em 1 a cada nova instância criada.\n",
    "\n",
    "Teste o seu código criando duas diferentes instâncias de evento (preencha os atributos como quiser) e imprimindo todos os seus atributos (de classe e de instância).\n",
    "\n",
    "> Consulte [este tutorial biblioteca `datetime`](https://www.w3schools.com/python/python_datetime.asp) caso não esteja familiarizado."
   ]
  },
  {
   "cell_type": "code",
   "execution_count": 4,
   "metadata": {
    "vscode": {
     "languageId": "plaintext"
    }
   },
   "outputs": [
    {
     "name": "stdout",
     "output_type": "stream",
     "text": [
      "Evento 1: Reunião 2025-10-10 14:00:00 Reunião com a equipe. False\n",
      "Evento 2: Consulta 2025-10-12 09:00:00 Consulta médica. False\n",
      "Total de eventos criados: 2\n"
     ]
    }
   ],
   "source": [
    "### Escreva seu código aqui\n",
    "\n",
    "# Importando a biblioteca datetime, necessária para manipular data e hora\n",
    "from datetime import datetime\n",
    "\n",
    "# Definindo a classe Evento, que vai representar um evento no calendário\n",
    "class Evento:\n",
    "    # Atributo de classe: pertence à classe e é compartilhado por todas as instâncias\n",
    "    total_eventos = 0  # será usado para contar quantos eventos já foram criados\n",
    "\n",
    "    # Método construtor: é executado automaticamente ao criar um novo objeto\n",
    "    def __init__(self, titulo, data_hora, descricao):\n",
    "        # Atributos de instância: pertencem a cada objeto individualmente\n",
    "        self.titulo = titulo              # título do evento\n",
    "        self.data_hora = data_hora        # data e hora do evento\n",
    "        self.descricao = descricao        # descrição do evento\n",
    "        self.is_concluido = False         # indica se o evento já passou (inicialmente False)\n",
    "\n",
    "        # Incrementa o contador de eventos a cada nova criação\n",
    "        Evento.total_eventos += 1\n",
    "\n",
    "# Teste\n",
    "\n",
    "# Criando duas instâncias de Evento (objetos)\n",
    "evento1 = Evento(\"Reunião\", datetime(2025, 10, 10, 14, 0), \"Reunião com a equipe.\")\n",
    "evento2 = Evento(\"Consulta\", datetime(2025, 10, 12, 9, 0), \"Consulta médica.\")\n",
    "\n",
    "# Imprimindo atributos dos objetos e da classe\n",
    "print(\"Evento 1:\", evento1.titulo, evento1.data_hora, evento1.descricao, evento1.is_concluido)\n",
    "print(\"Evento 2:\", evento2.titulo, evento2.data_hora, evento2.descricao, evento2.is_concluido)\n",
    "print(\"Total de eventos criados:\", Evento.total_eventos)"
   ]
  },
  {
   "cell_type": "markdown",
   "metadata": {},
   "source": [
    "#### Q2.\n",
    "Agora vamos adicionar métodos à nossa classe. Lembre dos diferentes decoradores que aprendemos. Você deve redefinir a classe com os seguintes métodos:\n",
    "* Um método `isConcluido()` que avalia se a `data_hora` do evento é menor que `datetime.now()` (a data e hora atual). Em caso positivo, atualiza o atributo de instância `is_concluido` para o valor `True`. \n",
    "* Um método de classe `num_eventos()` que retorna o valor do atributo de classe `total_eventos`.\n",
    "* Um método estático `valida_evento(nome, data_hora, descricao)` que recebe os atributos de um evento e testa os tipos de cada variável, retornando `True` caso todos estejam corretos e `False` caso contrário. Para o teste, use a função nativa do Python [`isinstance`](https://www.w3schools.com/python/ref_func_isinstance.asp).\n",
    "\n",
    "Para testar sua classe atualizada:\n",
    "* Crie uma instância de Evento com valor passado e chame o método `isConcluido()` para a instância criada. Em seguida imprima o atributo `is_concluido`. \n",
    "* Invoque o método de classe `num_eventos()` a partir da classe Evento (ou seja, sem criar nenhuma instância).\n",
    "* Chame o método estático `valida_evento()` a partir da classe Evento. Experimente passar valores corretos e incorretos. \n"
   ]
  },
  {
   "cell_type": "code",
   "execution_count": 6,
   "metadata": {
    "vscode": {
     "languageId": "plaintext"
    }
   },
   "outputs": [
    {
     "name": "stdout",
     "output_type": "stream",
     "text": [
      "Evento concluído? True\n",
      "Atributo is_concluido: True\n",
      "Número total de eventos: 1\n",
      "Validação correta: True\n",
      "Validação incorreta: False\n"
     ]
    }
   ],
   "source": [
    "from datetime import datetime\n",
    "\n",
    "class Evento:\n",
    "    total_eventos = 0\n",
    "\n",
    "    def __init__(self, titulo, data_hora, descricao):\n",
    "        self.titulo = titulo\n",
    "        self.data_hora = data_hora\n",
    "        self.descricao = descricao\n",
    "        self.is_concluido = False\n",
    "        Evento.total_eventos += 1\n",
    "\n",
    "    # Método de instância: acessa os dados de um objeto específico (self)\n",
    "    def isConcluido(self):\n",
    "        # Se a data do evento já passou em relação ao momento atual\n",
    "        if self.data_hora < datetime.now():\n",
    "            self.is_concluido = True  # atualiza o atributo\n",
    "        return self.is_concluido\n",
    "\n",
    "    # Método de classe: usa cls em vez de self e acessa a classe diretamente\n",
    "    @classmethod\n",
    "    def num_eventos(cls):\n",
    "        return cls.total_eventos\n",
    "\n",
    "    # Método estático: não acessa nem self nem cls, apenas executa algo independente\n",
    "    @staticmethod\n",
    "    def valida_evento(nome, data_hora, descricao):\n",
    "        # isinstance verifica o tipo da variável\n",
    "        if isinstance(nome, str) and isinstance(data_hora, datetime) and isinstance(descricao, str):\n",
    "            return True\n",
    "        return False\n",
    "\n",
    "# Testes\n",
    "\n",
    "# Evento no passado\n",
    "evento_passado = Evento(\"Prova antiga\", datetime(2024, 1, 1, 10, 0), \"Prova já realizada.\")\n",
    "print(\"Evento concluído?\", evento_passado.isConcluido())\n",
    "print(\"Atributo is_concluido:\", evento_passado.is_concluido)\n",
    "\n",
    "# Método de classe: retorna número de eventos criados\n",
    "print(\"Número total de eventos:\", Evento.num_eventos())\n",
    "\n",
    "# Método estático: testando validação correta e incorreta\n",
    "print(\"Validação correta:\", Evento.valida_evento(\"Festa\", datetime(2025, 10, 5, 18, 0), \"Aniversário.\"))\n",
    "print(\"Validação incorreta:\", Evento.valida_evento(123, \"2025-10-05\", True))\n"
   ]
  },
  {
   "cell_type": "markdown",
   "metadata": {
    "vscode": {
     "languageId": "plaintext"
    }
   },
   "source": [
    "#### Q3.\n",
    "\n",
    "Vamos incluir métodos mágicos! ✨🪄🔮\n",
    "\n",
    "Redefina a classe incluindo\":\n",
    "* Método `__str__` que imprime os atributos do evento na forma `\"Evento: titulo, Data: data_hora, Descrição: descricao, Concluido: is_concluido\"`.\n",
    "* Implemente os métodos de comparação `__eq__`, `__ne__`, `__lt__`, `__le__`, `__gt__` e `__ge__` para comparar eventos baseados no atributo `data_hora`. Esses métodos devem comparar duas instâncias de Evento e retornar os resultados apropriados (`True` ou `False`).\n",
    "\n",
    "Para testar, crie duas instâncias de Evento com datas diferentes. Imprima as instâncias com a função `print()` e apresente o resultado das comparações entre eventos (`==`, `!=`, `<`, `<=`, `>`, `>=`)."
   ]
  },
  {
   "cell_type": "code",
   "execution_count": 7,
   "metadata": {
    "vscode": {
     "languageId": "plaintext"
    }
   },
   "outputs": [
    {
     "name": "stdout",
     "output_type": "stream",
     "text": [
      "Evento: Apresentação, Data: 2025-10-10 09:00:00, Descrição: Trabalho final., Concluído: False\n",
      "Evento: Entrega, Data: 2025-10-12 18:00:00, Descrição: Entrega do relatório., Concluído: False\n",
      "e1 == e2: False\n",
      "e1 != e2: True\n",
      "e1 < e2: True\n",
      "e1 <= e2: True\n",
      "e1 > e2: False\n",
      "e1 >= e2: False\n"
     ]
    }
   ],
   "source": [
    "from datetime import datetime\n",
    "\n",
    "class Evento:\n",
    "    total_eventos = 0\n",
    "\n",
    "    def __init__(self, titulo, data_hora, descricao):\n",
    "        self.titulo = titulo\n",
    "        self.data_hora = data_hora\n",
    "        self.descricao = descricao\n",
    "        self.is_concluido = False\n",
    "        Evento.total_eventos += 1\n",
    "\n",
    "    def isConcluido(self):\n",
    "        if self.data_hora < datetime.now():\n",
    "            self.is_concluido = True\n",
    "        return self.is_concluido\n",
    "\n",
    "    @classmethod\n",
    "    def num_eventos(cls):\n",
    "        return cls.total_eventos\n",
    "\n",
    "    @staticmethod\n",
    "    def valida_evento(nome, data_hora, descricao):\n",
    "        return isinstance(nome, str) and isinstance(data_hora, datetime) and isinstance(descricao, str)\n",
    "\n",
    "    # Método mágico para imprimir o evento\n",
    "    def __str__(self):\n",
    "        return (f\"Evento: {self.titulo}, Data: {self.data_hora}, \"\n",
    "                f\"Descrição: {self.descricao}, Concluído: {self.is_concluido}\")\n",
    "\n",
    "    # Métodos mágicos de comparação com base na data e hora\n",
    "    def __eq__(self, other):\n",
    "        return self.data_hora == other.data_hora\n",
    "\n",
    "    def __ne__(self, other):\n",
    "        return self.data_hora != other.data_hora\n",
    "\n",
    "    def __lt__(self, other):\n",
    "        return self.data_hora < other.data_hora\n",
    "\n",
    "    def __le__(self, other):\n",
    "        return self.data_hora <= other.data_hora\n",
    "\n",
    "    def __gt__(self, other):\n",
    "        return self.data_hora > other.data_hora\n",
    "\n",
    "    def __ge__(self, other):\n",
    "        return self.data_hora >= other.data_hora\n",
    "\n",
    "\n",
    "# Teste\n",
    "\n",
    "e1 = Evento(\"Apresentação\", datetime(2025, 10, 10, 9, 0), \"Trabalho final.\")\n",
    "e2 = Evento(\"Entrega\", datetime(2025, 10, 12, 18, 0), \"Entrega do relatório.\")\n",
    "\n",
    "# Exibição formatada (usa __str__)\n",
    "print(e1)\n",
    "print(e2)\n",
    "\n",
    "# Comparações\n",
    "print(\"e1 == e2:\", e1 == e2)\n",
    "print(\"e1 != e2:\", e1 != e2)\n",
    "print(\"e1 < e2:\", e1 < e2)\n",
    "print(\"e1 <= e2:\", e1 <= e2)\n",
    "print(\"e1 > e2:\", e1 > e2)\n",
    "print(\"e1 >= e2:\", e1 >= e2)"
   ]
  },
  {
   "cell_type": "code",
   "execution_count": null,
   "metadata": {},
   "outputs": [],
   "source": []
  }
 ],
 "metadata": {
  "kernelspec": {
   "display_name": "Python 3 (ipykernel)",
   "language": "python",
   "name": "python3"
  },
  "language_info": {
   "codemirror_mode": {
    "name": "ipython",
    "version": 3
   },
   "file_extension": ".py",
   "mimetype": "text/x-python",
   "name": "python",
   "nbconvert_exporter": "python",
   "pygments_lexer": "ipython3",
   "version": "3.12.3"
  }
 },
 "nbformat": 4,
 "nbformat_minor": 4
}
