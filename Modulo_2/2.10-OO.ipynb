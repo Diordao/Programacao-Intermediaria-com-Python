{
 "cells": [
  {
   "cell_type": "markdown",
   "metadata": {},
   "source": [
    "> Projeto Desenvolve <br>\n",
    "Programação Intermediária com Python <br>\n",
    "Profa. Camila Laranjeira (mila@projetodesenvolve.com.br) <br>\n",
    "\n",
    "# 2.5 a 2.10 - Pilares da OO"
   ]
  },
  {
   "cell_type": "markdown",
   "metadata": {},
   "source": [
    "## Exercícios\n",
    "\n",
    "#### Q1.\n",
    "Essa lista de exercícios terá como base a classe `Evento` criada em exercícios anteriores. Primeiramente criaremos a classe abstrata `EventoABC` com os métodos de instância abstratos `__str__(self)` e `isConcluido(self)`, indicando que todos as subclasses que dela herdarem devem implementar esses métodos.\n",
    "\n",
    "`EventoABC` também possui os atributos `_titulo` (string) e `_descricao` (string), cujos valores são recebidos e inicializados no construtor da classe. Note a convenção de nomenclatura indicando o caráter privado desses atributos."
   ]
  },
  {
   "cell_type": "code",
   "execution_count": 1,
   "metadata": {
    "vscode": {
     "languageId": "plaintext"
    }
   },
   "outputs": [],
   "source": [
    "#### Classe EventoABC\n",
    "\n",
    "# Importa as ferramentas para criar classes abstratas\n",
    "from abc import ABC, abstractmethod\n",
    "\n",
    "# Cria a classe base abstrata, que serve como \"modelo\" para outras classes herdarem\n",
    "class EventoABC(ABC):\n",
    "    \"\"\"\n",
    "    Classe abstrata que representa a estrutura básica de um evento.\n",
    "    Define atributos e métodos que as subclasses devem obrigatoriamente implementar.\n",
    "    \"\"\"\n",
    "\n",
    "    def __init__(self, titulo: str, descricao: str):\n",
    "        # Atributos privados (por convenção, começam com \"_\")\n",
    "        self._titulo = titulo\n",
    "        self._descricao = descricao\n",
    "\n",
    "    # Método abstrato: toda subclasse precisa implementar\n",
    "    @abstractmethod\n",
    "    def __str__(self):\n",
    "        pass\n",
    "\n",
    "    # Método abstrato: toda subclasse precisa implementar\n",
    "    @abstractmethod\n",
    "    def isConcluido(self):\n",
    "        pass\n"
   ]
  },
  {
   "cell_type": "markdown",
   "metadata": {
    "vscode": {
     "languageId": "plaintext"
    }
   },
   "source": [
    "#### Q2.\n",
    "\n",
    "Crie a classe `DataHora` que dará suporte ao registro de eventos de calendário.\n",
    "* A classe possui o atributo de instância `_data_hora` (datetime) privado e um atributo de classe `FORMAT` inicializado com a formatação de string aceito para `_data_hora`, ou seja, `FORMAT = '%d/%m/%Y, %H:%M'`.\n",
    "* A classe **não possui construtor customizado**. A alteração de seu atributo se dará a partir da propriedade a seguir.\n",
    "* Crie a `property` `data_hora` para manipular o atributo `_data_hora`.\n",
    "    * O getter da propriedade deve retornar a data como uma string formatada (`%d/%m/%Y, %H:%M`). Use o atributo `FORMAT`. Consulte o [funcionamento do método `strftime`](https://www.programiz.com/python-programming/datetime/strftime).\n",
    "    * O setter da propriedade deve receber uma string de data formatada (`%d/%m/%Y, %H:%M`) e implementar um bloco try-except que tenta converter a string em `datetime` e lança um `ValueError` caso a entrada seja inválida. Use o atributo `FORMAT`. Consulte o [funcionamento do método `strptime`](https://www.digitalocean.com/community/tutorials/python-string-to-datetime-strptime).\n",
    "* Crie o método de instância `isPassado(self)` que avalia se a `_data_hora` é menor que `datetime.now()` (a data e hora atual) e retorna `True` em caso positivo, e `False` caso contrário.\n",
    "* Crie o método de instância `somaDias(self, num_dias)` que recebe um inteiro `num_dias`, soma esse valor ao atributo interno `_data_hora` e retorna a string formatada do resultado da soma (código dado a seguir).   \n",
    "```python\n",
    "data_hora_somada = self._data_hora + datetime.timedelta(days=num_dias)\n",
    "return data_hora_somada.strftime(FORMAT)\n",
    "```\n",
    "\n",
    "Teste a classe `DataHora` com o seguinte código (altere o que for necessário):\n",
    "```python\n",
    "# instanciando o objeto\n",
    "dh = DataHora()\n",
    "\n",
    "# definindo a data_hora através da propriedade\n",
    "dh.data_hora = '05/02/2024, 12:30'\n",
    "\n",
    "## editando a data_hora através da função somaDias\n",
    "dh.data_hora = dh.somaDias(30)\n",
    "\n",
    "## imprimindo a data_hora editada e se é passado\n",
    "print(dh.data_hora, dh.isPassado())\n",
    "```"
   ]
  },
  {
   "cell_type": "code",
   "execution_count": 6,
   "metadata": {
    "vscode": {
     "languageId": "plaintext"
    }
   },
   "outputs": [
    {
     "name": "stdout",
     "output_type": "stream",
     "text": [
      "06/03/2024, 12:30 True\n"
     ]
    }
   ],
   "source": [
    "#### Classe DataHora\n",
    "\n",
    "from datetime import datetime, timedelta\n",
    "\n",
    "class DataHora:\n",
    "    \"\"\"\n",
    "    Classe responsável por armazenar, formatar e manipular datas e horas.\n",
    "    \"\"\"\n",
    "\n",
    "    # Atributo de classe que define o formato padrão de data/hora\n",
    "    FORMAT = '%d/%m/%Y, %H:%M'\n",
    "\n",
    "    def __init__(self):\n",
    "        self._data_hora = None  # atributo privado\n",
    "\n",
    "    # Propriedade para acessar a data_hora de forma controlada\n",
    "    @property\n",
    "    def data_hora(self):\n",
    "        # Retorna a data formatada como string\n",
    "        return self._data_hora.strftime(self.FORMAT)\n",
    "\n",
    "    @data_hora.setter\n",
    "    def data_hora(self, valor: str):\n",
    "        # Tenta converter a string para um objeto datetime\n",
    "        try:\n",
    "            self._data_hora = datetime.strptime(valor, self.FORMAT)\n",
    "        except ValueError:\n",
    "            # Caso a string não siga o formato esperado\n",
    "            raise ValueError(f\"Data inválida! Use o formato {self.FORMAT}\")\n",
    "\n",
    "    def isPassado(self):\n",
    "        # Retorna True se a data já passou\n",
    "        return self._data_hora < datetime.now()\n",
    "\n",
    "    def somaDias(self, num_dias: int):\n",
    "        # Soma dias à data atual\n",
    "        data_hora_somada = self._data_hora + timedelta(days=num_dias)\n",
    "        return data_hora_somada.strftime(self.FORMAT)\n",
    "\n",
    "# ========= Teste =========\n",
    "dh = DataHora()\n",
    "dh.data_hora = '05/02/2024, 12:30'\n",
    "dh.data_hora = dh.somaDias(30)\n",
    "print(dh.data_hora, dh.isPassado())\n"
   ]
  },
  {
   "cell_type": "markdown",
   "metadata": {},
   "source": [
    "#### Q3.\n",
    "Crie a classe `EventoUnico`:\n",
    "* A classe deve herdar de `EventoABC`.\n",
    "* Possui o atributo de instância `_data_hora` (classe `DataHora` que criamos previamente).\n",
    "* Seu construtor deve receber e inicializar os atributos da superclasse, além do valor de `_data_hora` recebido como uma string formatada (`%d/%m/%Y, %H:%M`). Note que para alterar `_data_hora` (objeto tipo `DataHora`), você deve manipular a propriedade interna da classe.\n",
    "*  Implementa os métodos abstratos da superclasse:\n",
    "    * Método `isConcluido()` que invoca o método `isPassado()` de `_data_hora` e retorna o seu resultado.\n",
    "    * Método `__str__` que imprime os atributos do evento na forma `\"Evento: _titulo, Data: _data_hora, Descrição: _descricao, Concluido: isConcluido()\"`. Note que `isConcluido()` é o método de avaliação implementado. \n",
    "* Crie o método de instância `editar_data_hora` que recebe uma string formatada e altera `_data_hora` (através de sua propriedade interna).\n",
    "    \n",
    "    \n",
    "Teste a classe `EventoUnico` com o seguinte código:\n",
    "```python\n",
    "# criar evento\n",
    "evento = EventoUnico('Reunião', 'Sala 302, prédio da esquina', '05/10/2023, 16:30')\n",
    "print(evento)\n",
    "\n",
    "# editar data do evento (através da propriedade)\n",
    "evento.editar_data_hora('05/10/2024, 16:30')\n",
    "print(evento)\n",
    "```"
   ]
  },
  {
   "cell_type": "code",
   "execution_count": 7,
   "metadata": {
    "vscode": {
     "languageId": "plaintext"
    }
   },
   "outputs": [
    {
     "name": "stdout",
     "output_type": "stream",
     "text": [
      "Evento: Reunião, Data: 05/10/2023, 16:30, Descrição: Sala 302, prédio da esquina, Concluído: True\n",
      "Evento: Reunião, Data: 05/10/2024, 16:30, Descrição: Sala 302, prédio da esquina, Concluído: True\n"
     ]
    }
   ],
   "source": [
    "#### Classe EventoUnico\n",
    "\n",
    "class EventoUnico(EventoABC):\n",
    "    \"\"\"\n",
    "    Representa um único evento que ocorre em uma data e hora específicas.\n",
    "    \"\"\"\n",
    "\n",
    "    def __init__(self, titulo, descricao, data_hora_str):\n",
    "        # Chama o construtor da classe mãe (EventoABC)\n",
    "        super().__init__(titulo, descricao)\n",
    "\n",
    "        # Cria um objeto DataHora e define a data recebida\n",
    "        self._data_hora = DataHora()\n",
    "        self._data_hora.data_hora = data_hora_str\n",
    "\n",
    "    def isConcluido(self):\n",
    "        # Usa o método isPassado() da classe DataHora\n",
    "        return self._data_hora.isPassado()\n",
    "\n",
    "    def __str__(self):\n",
    "        return (f\"Evento: {self._titulo}, Data: {self._data_hora.data_hora}, \"\n",
    "                f\"Descrição: {self._descricao}, Concluído: {self.isConcluido()}\")\n",
    "\n",
    "    def editar_data_hora(self, nova_data_str):\n",
    "        # Altera a data do evento via propriedade interna\n",
    "        self._data_hora.data_hora = nova_data_str\n",
    "\n",
    "\n",
    "# ========= Teste =========\n",
    "evento = EventoUnico('Reunião', 'Sala 302, prédio da esquina', '05/10/2023, 16:30')\n",
    "print(evento)\n",
    "evento.editar_data_hora('05/10/2024, 16:30')\n",
    "print(evento)\n"
   ]
  },
  {
   "cell_type": "markdown",
   "metadata": {},
   "source": [
    "#### Q3.\n",
    "Crie a classe `EventoRecorrente`:\n",
    "* A classe deve herdar de `EventoABC`.\n",
    "* Possui como atributo próprio uma lista privada de objetos `DataHora` (como você deve nomear o atributo?).\n",
    "* Seu construtor recebe os atributos da superclasse, além dos atributos `data_hora_inicial` (string formatada), `data_hora_final` (string formatada) e `intervalo_repeticao` (int), sendo o intervalo dado em dias. Preencha a coleção `DataHora` de acordo com o intervalo de repetição fornecido. Dica: crie o objeto `DataHora` inicial e use sua função interna `somaDias` para criar iterativamente as novas instâncias do intervalo até chegar em `DataHora` final. \n",
    "*  Implementa os métodos abstratos da superclasse:\n",
    "    * Método `isConcluido(indice)` que que invoca o método `isPassado()` do elemento `indice` da coleção de objetos `DataHora` e retorna seu resultado. \n",
    "    * Método `__str__` que imprime (em um laço) **todos as ocorrências `i` do evento** na forma `\"Evento: _titulo, Data: data_hora[i], Descrição: _descricao, Concluido: isConcluido(i)\"`. \n",
    "* Crie o método `editar_data_hora` que recebe `data_hora_antiga` e `data_hora_nova` e altera o elemento da coleção de objetos `DataHora` que corresponde a `data_hora_antiga` fornecida.    \n",
    "\n",
    "\n",
    "Teste a classe `EventoRecorrente` com o seguinte código:\n",
    "```python\n",
    "# criar evento\n",
    "eventos = EventoRecorrente(\n",
    "    'Reunião', 'Sala 302, prédio da esquina', \n",
    "    '05/01/2024, 16:30', '05/01/2025, 16:30', 30)\n",
    "\n",
    "# imprimir eventos\n",
    "print(eventos)\n",
    "\n",
    "# editar um dos eventos\n",
    "eventos.editar_data_hora('05/12/2024, 16:30', '05/12/2024, 11:30')\n",
    "\n",
    "# imprimir eventos\n",
    "print(eventos)\n",
    "```"
   ]
  },
  {
   "cell_type": "code",
   "execution_count": 8,
   "metadata": {
    "vscode": {
     "languageId": "plaintext"
    }
   },
   "outputs": [
    {
     "name": "stdout",
     "output_type": "stream",
     "text": [
      "Evento: Reunião, Data: 05/01/2024, 16:30, Descrição: Sala 302, prédio da esquina, Concluído: True\n",
      "Evento: Reunião, Data: 04/02/2024, 16:30, Descrição: Sala 302, prédio da esquina, Concluído: True\n",
      "Evento: Reunião, Data: 05/03/2024, 16:30, Descrição: Sala 302, prédio da esquina, Concluído: True\n",
      "Evento: Reunião, Data: 04/04/2024, 16:30, Descrição: Sala 302, prédio da esquina, Concluído: True\n",
      "Evento: Reunião, Data: 04/05/2024, 16:30, Descrição: Sala 302, prédio da esquina, Concluído: True\n",
      "Evento: Reunião, Data: 03/06/2024, 16:30, Descrição: Sala 302, prédio da esquina, Concluído: True\n",
      "Evento: Reunião, Data: 03/07/2024, 16:30, Descrição: Sala 302, prédio da esquina, Concluído: True\n",
      "Evento: Reunião, Data: 02/08/2024, 16:30, Descrição: Sala 302, prédio da esquina, Concluído: True\n",
      "Evento: Reunião, Data: 01/09/2024, 16:30, Descrição: Sala 302, prédio da esquina, Concluído: True\n",
      "Evento: Reunião, Data: 01/10/2024, 16:30, Descrição: Sala 302, prédio da esquina, Concluído: True\n",
      "Evento: Reunião, Data: 31/10/2024, 16:30, Descrição: Sala 302, prédio da esquina, Concluído: True\n",
      "Evento: Reunião, Data: 30/11/2024, 16:30, Descrição: Sala 302, prédio da esquina, Concluído: True\n",
      "Evento: Reunião, Data: 30/12/2024, 16:30, Descrição: Sala 302, prédio da esquina, Concluído: True\n",
      "\n",
      "Evento: Reunião, Data: 05/01/2024, 16:30, Descrição: Sala 302, prédio da esquina, Concluído: True\n",
      "Evento: Reunião, Data: 04/02/2024, 16:30, Descrição: Sala 302, prédio da esquina, Concluído: True\n",
      "Evento: Reunião, Data: 05/03/2024, 16:30, Descrição: Sala 302, prédio da esquina, Concluído: True\n",
      "Evento: Reunião, Data: 04/04/2024, 16:30, Descrição: Sala 302, prédio da esquina, Concluído: True\n",
      "Evento: Reunião, Data: 04/05/2024, 16:30, Descrição: Sala 302, prédio da esquina, Concluído: True\n",
      "Evento: Reunião, Data: 03/06/2024, 16:30, Descrição: Sala 302, prédio da esquina, Concluído: True\n",
      "Evento: Reunião, Data: 03/07/2024, 16:30, Descrição: Sala 302, prédio da esquina, Concluído: True\n",
      "Evento: Reunião, Data: 02/08/2024, 16:30, Descrição: Sala 302, prédio da esquina, Concluído: True\n",
      "Evento: Reunião, Data: 01/09/2024, 16:30, Descrição: Sala 302, prédio da esquina, Concluído: True\n",
      "Evento: Reunião, Data: 01/10/2024, 16:30, Descrição: Sala 302, prédio da esquina, Concluído: True\n",
      "Evento: Reunião, Data: 31/10/2024, 16:30, Descrição: Sala 302, prédio da esquina, Concluído: True\n",
      "Evento: Reunião, Data: 30/11/2024, 16:30, Descrição: Sala 302, prédio da esquina, Concluído: True\n",
      "Evento: Reunião, Data: 30/12/2024, 16:30, Descrição: Sala 302, prédio da esquina, Concluído: True\n",
      "\n"
     ]
    }
   ],
   "source": [
    "class EventoRecorrente(EventoABC):\n",
    "    \"\"\"\n",
    "    Representa eventos que se repetem entre duas datas em intervalos fixos.\n",
    "    \"\"\"\n",
    "\n",
    "    def __init__(self, titulo, descricao, data_hora_inicial, data_hora_final, intervalo_repeticao):\n",
    "        super().__init__(titulo, descricao)\n",
    "        self._datas = []  # lista privada de objetos DataHora\n",
    "\n",
    "        # Cria o primeiro evento\n",
    "        data_atual = DataHora()\n",
    "        data_atual.data_hora = data_hora_inicial\n",
    "\n",
    "        # Cria o evento final para comparar\n",
    "        data_final = DataHora()\n",
    "        data_final.data_hora = data_hora_final\n",
    "\n",
    "        # Gera as repetições até alcançar a data final\n",
    "        while data_atual._data_hora <= data_final._data_hora:\n",
    "            nova_data = DataHora()\n",
    "            nova_data.data_hora = data_atual.data_hora\n",
    "            self._datas.append(nova_data)\n",
    "            # Soma o intervalo de repetição (em dias)\n",
    "            data_atual.data_hora = data_atual.somaDias(intervalo_repeticao)\n",
    "\n",
    "    def isConcluido(self, indice):\n",
    "        return self._datas[indice].isPassado()\n",
    "\n",
    "    def __str__(self):\n",
    "        texto = \"\"\n",
    "        for i, data in enumerate(self._datas):\n",
    "            texto += (f\"Evento: {self._titulo}, Data: {data.data_hora}, \"\n",
    "                      f\"Descrição: {self._descricao}, Concluído: {self.isConcluido(i)}\\n\")\n",
    "        return texto\n",
    "\n",
    "    def editar_data_hora(self, data_antiga, data_nova):\n",
    "        for data in self._datas:\n",
    "            if data.data_hora == data_antiga:\n",
    "                data.data_hora = data_nova\n",
    "                break\n",
    "\n",
    "\n",
    "# ========= Teste =========\n",
    "eventos = EventoRecorrente(\n",
    "    'Reunião', 'Sala 302, prédio da esquina',\n",
    "    '05/01/2024, 16:30', '05/01/2025, 16:30', 30\n",
    ")\n",
    "\n",
    "print(eventos)\n",
    "eventos.editar_data_hora('05/12/2024, 16:30', '05/12/2024, 11:30')\n",
    "print(eventos)\n"
   ]
  },
  {
   "cell_type": "markdown",
   "metadata": {},
   "source": [
    "#### Q4.\n",
    "\n",
    "Por fim, vamos só ver o polimorfismo em ação. Crie e preencha uma lista de eventos, sendo alguns do tipo `EventoUnico` e outros do tipo `EventoRecorrente`. Sobre essa lista, execute o laço de impressão a seguir:\n",
    "```python\n",
    "for evento in lista_eventos: print(evento)\n",
    "```\n",
    "A função `print` irá invocar o método especial `__str__` das classes correspondentes dependendo do tipo do objeto recebido. Aí está o polimorfismo :)"
   ]
  },
  {
   "cell_type": "code",
   "execution_count": 5,
   "metadata": {
    "vscode": {
     "languageId": "plaintext"
    }
   },
   "outputs": [
    {
     "name": "stdout",
     "output_type": "stream",
     "text": [
      "Evento: Apresentação, Data: 10/10/2024, 09:00, Descrição: Auditório, Concluído: True\n",
      "Evento: Reunião Mensal, Data: 01/01/2024, 09:00, Descrição: Sala 302, Concluído: True\n",
      "Evento: Reunião Mensal, Data: 31/01/2024, 09:00, Descrição: Sala 302, Concluído: True\n",
      "Evento: Reunião Mensal, Data: 01/03/2024, 09:00, Descrição: Sala 302, Concluído: True\n",
      "Evento: Reunião Mensal, Data: 31/03/2024, 09:00, Descrição: Sala 302, Concluído: True\n",
      "\n"
     ]
    }
   ],
   "source": [
    "# Lista contendo diferentes tipos de eventos\n",
    "lista_eventos = [\n",
    "    EventoUnico(\"Apresentação\", \"Auditório\", \"10/10/2024, 09:00\"),\n",
    "    EventoRecorrente(\"Reunião Mensal\", \"Sala 302\", \"01/01/2024, 09:00\", \"01/04/2024, 09:00\", 30)\n",
    "]\n",
    "\n",
    "# Polimorfismo: o método __str__ correto será chamado conforme o tipo\n",
    "for evento in lista_eventos:\n",
    "    print(evento)\n"
   ]
  },
  {
   "cell_type": "code",
   "execution_count": null,
   "metadata": {},
   "outputs": [],
   "source": []
  }
 ],
 "metadata": {
  "kernelspec": {
   "display_name": "Python 3 (ipykernel)",
   "language": "python",
   "name": "python3"
  },
  "language_info": {
   "codemirror_mode": {
    "name": "ipython",
    "version": 3
   },
   "file_extension": ".py",
   "mimetype": "text/x-python",
   "name": "python",
   "nbconvert_exporter": "python",
   "pygments_lexer": "ipython3",
   "version": "3.12.3"
  }
 },
 "nbformat": 4,
 "nbformat_minor": 4
}
