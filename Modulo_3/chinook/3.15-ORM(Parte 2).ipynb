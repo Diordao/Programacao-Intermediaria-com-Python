{
 "cells": [
  {
   "cell_type": "markdown",
   "metadata": {},
   "source": [
    "## Exercícios\n",
    "\n",
    "> Retirados de [learn-python: sqlalchemy_orm-questions](https://aviadr1.github.io/learn-advanced-python/11_db_access/exercise/sqlalchemy_orm-questions.html).\n",
    "\n",
    "#### Q1.\n",
    "\n",
    "Baixa e extraia o arquivo compactado com o banco de dados [Chinook database](https://www.sqlitetutorial.net/sqlite-sample-database/). Salve o arquivo `chinook.db` na mesma pasta deste script.\n",
    "* Link para baixar: http://www.sqlitetutorial.net/wp-content/uploads/2018/03/chinook.zip\n",
    "\n",
    "<img width=500 src=https://www.sqlitetutorial.net/wp-content/uploads/2015/11/sqlite-sample-database-color.jpg>\n"
   ]
  },
  {
   "cell_type": "markdown",
   "metadata": {},
   "source": [
    "#### Q2.\n",
    "\n",
    "Leia o código e os comentários das células a seguir para entender como acessamos os modelos ORM de um banco já existente."
   ]
  },
  {
   "cell_type": "code",
   "execution_count": 8,
   "metadata": {},
   "outputs": [
    {
     "name": "stdout",
     "output_type": "stream",
     "text": [
      "Collecting sqlalchemy\n",
      "  Using cached sqlalchemy-2.0.44-cp312-cp312-manylinux_2_17_x86_64.manylinux2014_x86_64.whl.metadata (9.5 kB)\n",
      "Collecting greenlet>=1 (from sqlalchemy)\n",
      "  Using cached greenlet-3.2.4-cp312-cp312-manylinux_2_24_x86_64.manylinux_2_28_x86_64.whl.metadata (4.1 kB)\n",
      "Requirement already satisfied: typing-extensions>=4.6.0 in ./jupyter_venv/lib/python3.12/site-packages (from sqlalchemy) (4.14.1)\n",
      "Using cached sqlalchemy-2.0.44-cp312-cp312-manylinux_2_17_x86_64.manylinux2014_x86_64.whl (3.3 MB)\n",
      "Using cached greenlet-3.2.4-cp312-cp312-manylinux_2_24_x86_64.manylinux_2_28_x86_64.whl (607 kB)\n",
      "Installing collected packages: greenlet, sqlalchemy\n",
      "Successfully installed greenlet-3.2.4 sqlalchemy-2.0.44\n"
     ]
    }
   ],
   "source": [
    "!pip install sqlalchemy"
   ]
  },
  {
   "cell_type": "code",
   "execution_count": 9,
   "metadata": {},
   "outputs": [
    {
     "name": "stdout",
     "output_type": "stream",
     "text": [
      "2.0.44\n"
     ]
    }
   ],
   "source": [
    "import sqlalchemy\n",
    "print(sqlalchemy.__version__)"
   ]
  },
  {
   "cell_type": "code",
   "execution_count": 10,
   "metadata": {
    "vscode": {
     "languageId": "plaintext"
    }
   },
   "outputs": [
    {
     "name": "stdout",
     "output_type": "stream",
     "text": [
      "albums\n",
      "['AlbumId', 'Title', 'ArtistId']\n",
      "[('AlbumId', Column('AlbumId', INTEGER(), table=<albums>, primary_key=True, nullable=False)), ('Title', Column('Title', NVARCHAR(length=160), table=<albums>, nullable=False)), ('ArtistId', Column('ArtistId', INTEGER(), ForeignKey('artists.ArtistId'), table=<albums>, nullable=False))]\n",
      "-------------------------\n",
      "artists\n",
      "['ArtistId', 'Name']\n",
      "[('ArtistId', Column('ArtistId', INTEGER(), table=<artists>, primary_key=True, nullable=False)), ('Name', Column('Name', NVARCHAR(length=120), table=<artists>))]\n",
      "-------------------------\n",
      "customers\n",
      "['CustomerId', 'FirstName', 'LastName', 'Company', 'Address', 'City', 'State', 'Country', 'PostalCode', 'Phone', 'Fax', 'Email', 'SupportRepId']\n",
      "[('CustomerId', Column('CustomerId', INTEGER(), table=<customers>, primary_key=True, nullable=False)), ('FirstName', Column('FirstName', NVARCHAR(length=40), table=<customers>, nullable=False)), ('LastName', Column('LastName', NVARCHAR(length=20), table=<customers>, nullable=False)), ('Company', Column('Company', NVARCHAR(length=80), table=<customers>)), ('Address', Column('Address', NVARCHAR(length=70), table=<customers>)), ('City', Column('City', NVARCHAR(length=40), table=<customers>)), ('State', Column('State', NVARCHAR(length=40), table=<customers>)), ('Country', Column('Country', NVARCHAR(length=40), table=<customers>)), ('PostalCode', Column('PostalCode', NVARCHAR(length=10), table=<customers>)), ('Phone', Column('Phone', NVARCHAR(length=24), table=<customers>)), ('Fax', Column('Fax', NVARCHAR(length=24), table=<customers>)), ('Email', Column('Email', NVARCHAR(length=60), table=<customers>, nullable=False)), ('SupportRepId', Column('SupportRepId', INTEGER(), ForeignKey('employees.EmployeeId'), table=<customers>))]\n",
      "-------------------------\n",
      "employees\n",
      "['EmployeeId', 'LastName', 'FirstName', 'Title', 'ReportsTo', 'BirthDate', 'HireDate', 'Address', 'City', 'State', 'Country', 'PostalCode', 'Phone', 'Fax', 'Email']\n",
      "[('EmployeeId', Column('EmployeeId', INTEGER(), table=<employees>, primary_key=True, nullable=False)), ('LastName', Column('LastName', NVARCHAR(length=20), table=<employees>, nullable=False)), ('FirstName', Column('FirstName', NVARCHAR(length=20), table=<employees>, nullable=False)), ('Title', Column('Title', NVARCHAR(length=30), table=<employees>)), ('ReportsTo', Column('ReportsTo', INTEGER(), ForeignKey('employees.EmployeeId'), table=<employees>)), ('BirthDate', Column('BirthDate', DATETIME(), table=<employees>)), ('HireDate', Column('HireDate', DATETIME(), table=<employees>)), ('Address', Column('Address', NVARCHAR(length=70), table=<employees>)), ('City', Column('City', NVARCHAR(length=40), table=<employees>)), ('State', Column('State', NVARCHAR(length=40), table=<employees>)), ('Country', Column('Country', NVARCHAR(length=40), table=<employees>)), ('PostalCode', Column('PostalCode', NVARCHAR(length=10), table=<employees>)), ('Phone', Column('Phone', NVARCHAR(length=24), table=<employees>)), ('Fax', Column('Fax', NVARCHAR(length=24), table=<employees>)), ('Email', Column('Email', NVARCHAR(length=60), table=<employees>))]\n",
      "-------------------------\n",
      "genres\n",
      "['GenreId', 'Name']\n",
      "[('GenreId', Column('GenreId', INTEGER(), table=<genres>, primary_key=True, nullable=False)), ('Name', Column('Name', NVARCHAR(length=120), table=<genres>))]\n",
      "-------------------------\n",
      "invoice_items\n",
      "['InvoiceLineId', 'InvoiceId', 'TrackId', 'UnitPrice', 'Quantity']\n",
      "[('InvoiceLineId', Column('InvoiceLineId', INTEGER(), table=<invoice_items>, primary_key=True, nullable=False)), ('InvoiceId', Column('InvoiceId', INTEGER(), ForeignKey('invoices.InvoiceId'), table=<invoice_items>, nullable=False)), ('TrackId', Column('TrackId', INTEGER(), ForeignKey('tracks.TrackId'), table=<invoice_items>, nullable=False)), ('UnitPrice', Column('UnitPrice', NUMERIC(precision=10, scale=2), table=<invoice_items>, nullable=False)), ('Quantity', Column('Quantity', INTEGER(), table=<invoice_items>, nullable=False))]\n",
      "-------------------------\n",
      "tracks\n",
      "['TrackId', 'Name', 'AlbumId', 'MediaTypeId', 'GenreId', 'Composer', 'Milliseconds', 'Bytes', 'UnitPrice']\n",
      "[('TrackId', Column('TrackId', INTEGER(), table=<tracks>, primary_key=True, nullable=False)), ('Name', Column('Name', NVARCHAR(length=200), table=<tracks>, nullable=False)), ('AlbumId', Column('AlbumId', INTEGER(), ForeignKey('albums.AlbumId'), table=<tracks>)), ('MediaTypeId', Column('MediaTypeId', INTEGER(), ForeignKey('media_types.MediaTypeId'), table=<tracks>, nullable=False)), ('GenreId', Column('GenreId', INTEGER(), ForeignKey('genres.GenreId'), table=<tracks>)), ('Composer', Column('Composer', NVARCHAR(length=220), table=<tracks>)), ('Milliseconds', Column('Milliseconds', INTEGER(), table=<tracks>, nullable=False)), ('Bytes', Column('Bytes', INTEGER(), table=<tracks>)), ('UnitPrice', Column('UnitPrice', NUMERIC(precision=10, scale=2), table=<tracks>, nullable=False))]\n",
      "-------------------------\n",
      "media_types\n",
      "['MediaTypeId', 'Name']\n",
      "[('MediaTypeId', Column('MediaTypeId', INTEGER(), table=<media_types>, primary_key=True, nullable=False)), ('Name', Column('Name', NVARCHAR(length=120), table=<media_types>))]\n",
      "-------------------------\n",
      "invoices\n",
      "['InvoiceId', 'CustomerId', 'InvoiceDate', 'BillingAddress', 'BillingCity', 'BillingState', 'BillingCountry', 'BillingPostalCode', 'Total']\n",
      "[('InvoiceId', Column('InvoiceId', INTEGER(), table=<invoices>, primary_key=True, nullable=False)), ('CustomerId', Column('CustomerId', INTEGER(), ForeignKey('customers.CustomerId'), table=<invoices>, nullable=False)), ('InvoiceDate', Column('InvoiceDate', DATETIME(), table=<invoices>, nullable=False)), ('BillingAddress', Column('BillingAddress', NVARCHAR(length=70), table=<invoices>)), ('BillingCity', Column('BillingCity', NVARCHAR(length=40), table=<invoices>)), ('BillingState', Column('BillingState', NVARCHAR(length=40), table=<invoices>)), ('BillingCountry', Column('BillingCountry', NVARCHAR(length=40), table=<invoices>)), ('BillingPostalCode', Column('BillingPostalCode', NVARCHAR(length=10), table=<invoices>)), ('Total', Column('Total', NUMERIC(precision=10, scale=2), table=<invoices>, nullable=False))]\n",
      "-------------------------\n",
      "playlist_track\n",
      "['PlaylistId', 'TrackId']\n",
      "[('PlaylistId', Column('PlaylistId', INTEGER(), ForeignKey('playlists.PlaylistId'), table=<playlist_track>, primary_key=True, nullable=False)), ('TrackId', Column('TrackId', INTEGER(), ForeignKey('tracks.TrackId'), table=<playlist_track>, primary_key=True, nullable=False))]\n",
      "-------------------------\n",
      "playlists\n",
      "['PlaylistId', 'Name']\n",
      "[('PlaylistId', Column('PlaylistId', INTEGER(), table=<playlists>, primary_key=True, nullable=False)), ('Name', Column('Name', NVARCHAR(length=120), table=<playlists>))]\n",
      "-------------------------\n",
      "[('employees', <class 'sqlalchemy.ext.automap.employees'>), ('invoice_items', <class 'sqlalchemy.ext.automap.invoice_items'>), ('tracks', <class 'sqlalchemy.ext.automap.tracks'>), ('albums', <class 'sqlalchemy.ext.automap.albums'>), ('artists', <class 'sqlalchemy.ext.automap.artists'>), ('invoices', <class 'sqlalchemy.ext.automap.invoices'>), ('customers', <class 'sqlalchemy.ext.automap.customers'>), ('playlists', <class 'sqlalchemy.ext.automap.playlists'>), ('genres', <class 'sqlalchemy.ext.automap.genres'>), ('media_types', <class 'sqlalchemy.ext.automap.media_types'>)]\n"
     ]
    }
   ],
   "source": [
    "from sqlalchemy import create_engine, text, MetaData\n",
    "from sqlalchemy.orm import Session\n",
    "\n",
    "engine = create_engine(\"sqlite+pysqlite:///chinook.db\", echo=False)\n",
    "\n",
    "### extrai as classes da base de dados Chinook\n",
    "metadata = MetaData()\n",
    "metadata.reflect(engine)\n",
    "\n",
    "# O metadata tem informações sobre as tabelas\n",
    "# que serão usadas para criar os modelos ORM\n",
    "for table_name, table in metadata.tables.items():\n",
    "    print(table_name)\n",
    "    print(table.columns.keys())\n",
    "    print(table.columns.items())\n",
    "    print('-'*25)\n",
    "\n",
    "### configura o objeto Base mapeando os modelos ORM das tabelas\n",
    "from sqlalchemy.ext.automap import automap_base\n",
    "Base = automap_base(metadata=metadata)\n",
    "Base.prepare()\n",
    "\n",
    "# o objeto Base tem os modelos ORM que podemos usar\n",
    "# para manipular o banco de dados\n",
    "print(Base.classes.items())"
   ]
  },
  {
   "cell_type": "code",
   "execution_count": 14,
   "metadata": {
    "vscode": {
     "languageId": "plaintext"
    }
   },
   "outputs": [
    {
     "name": "stdout",
     "output_type": "stream",
     "text": [
      "1 For Those About To Rock We Salute You\n"
     ]
    }
   ],
   "source": [
    "# A seguir um exemplo de query na tabela Albums\n",
    "# usamos o objeto Base para acessar cada modelo ORM.\n",
    "\n",
    "session = Session(engine)\n",
    "res = session.scalars(select(Base.classes.albums))\n",
    "first_album = res.first()\n",
    "print(first_album.AlbumId, first_album.Title)"
   ]
  },
  {
   "cell_type": "code",
   "execution_count": 13,
   "metadata": {},
   "outputs": [
    {
     "name": "stdout",
     "output_type": "stream",
     "text": [
      "✅ Banco e tabelas carregados com sucesso!\n"
     ]
    }
   ],
   "source": [
    "from sqlalchemy import create_engine, select, MetaData, func\n",
    "from sqlalchemy.orm import Session\n",
    "from sqlalchemy.ext.automap import automap_base\n",
    "\n",
    "# Caminho do banco (precisa estar na mesma pasta do notebook)\n",
    "engine = create_engine(\"sqlite+pysqlite:///chinook.db\", echo=False)\n",
    "\n",
    "# Reflete as tabelas do banco (lê a estrutura existente)\n",
    "metadata = MetaData()\n",
    "metadata.reflect(engine)\n",
    "\n",
    "# Cria classes ORM automaticamente\n",
    "Base = automap_base(metadata=metadata)\n",
    "Base.prepare()\n",
    "\n",
    "# Cria sessão\n",
    "session = Session(engine)\n",
    "\n",
    "# Mapeia tabelas\n",
    "Tracks = Base.classes.tracks\n",
    "Albums = Base.classes.albums\n",
    "InvoiceItems = Base.classes.invoice_items\n",
    "Artists = Base.classes.artists\n",
    "\n",
    "print(\"✅ Banco e tabelas carregados com sucesso!\")\n"
   ]
  },
  {
   "cell_type": "markdown",
   "metadata": {},
   "source": [
    "#### Q3. \n",
    "Com base nos códigos anteriores realize as operações solicitadas nas células a seguir:\n"
   ]
  },
  {
   "cell_type": "code",
   "execution_count": 15,
   "metadata": {
    "vscode": {
     "languageId": "plaintext"
    }
   },
   "outputs": [
    {
     "name": "stdout",
     "output_type": "stream",
     "text": [
      "TrackId=1, Name=For Those About To Rock (We Salute You), AlbumId=1, Composer=Angus Young, Malcolm Young, Brian Johnson\n",
      "TrackId=2, Name=Balls to the Wall, AlbumId=2, Composer=None\n",
      "TrackId=3, Name=Fast As a Shark, AlbumId=3, Composer=F. Baltes, S. Kaufman, U. Dirkscneider & W. Hoffman\n"
     ]
    }
   ],
   "source": [
    "### Imprima os três primeiros registros da tabela tracks\n",
    "\n",
    "from sqlalchemy import create_engine, select, MetaData\n",
    "from sqlalchemy.orm import Session\n",
    "from sqlalchemy.ext.automap import automap_base\n",
    "\n",
    "# Conecta ao banco Chinook\n",
    "engine = create_engine(\"sqlite+pysqlite:///chinook.db\", echo=False)\n",
    "\n",
    "# Mapeia as tabelas automaticamente\n",
    "metadata = MetaData()\n",
    "metadata.reflect(engine)\n",
    "Base = automap_base(metadata=metadata)\n",
    "Base.prepare()\n",
    "\n",
    "# Inicia sessão\n",
    "session = Session(engine)\n",
    "\n",
    "# Classe ORM para a tabela tracks\n",
    "Tracks = Base.classes.tracks\n",
    "\n",
    "# Consulta: primeiros 3 registros\n",
    "res = session.execute(select(Tracks).limit(3))\n",
    "for row in res.scalars():\n",
    "    print(f\"TrackId={row.TrackId}, Name={row.Name}, AlbumId={row.AlbumId}, Composer={row.Composer}\")"
   ]
  },
  {
   "cell_type": "code",
   "execution_count": 16,
   "metadata": {
    "vscode": {
     "languageId": "plaintext"
    }
   },
   "outputs": [
    {
     "name": "stdout",
     "output_type": "stream",
     "text": [
      "Faixa: For Those About To Rock (We Salute You) | Álbum: For Those About To Rock We Salute You\n",
      "Faixa: Put The Finger On You | Álbum: For Those About To Rock We Salute You\n",
      "Faixa: Let's Get It Up | Álbum: For Those About To Rock We Salute You\n",
      "Faixa: Inject The Venom | Álbum: For Those About To Rock We Salute You\n",
      "Faixa: Snowballed | Álbum: For Those About To Rock We Salute You\n",
      "Faixa: Evil Walks | Álbum: For Those About To Rock We Salute You\n",
      "Faixa: C.O.D. | Álbum: For Those About To Rock We Salute You\n",
      "Faixa: Breaking The Rules | Álbum: For Those About To Rock We Salute You\n",
      "Faixa: Night Of The Long Knives | Álbum: For Those About To Rock We Salute You\n",
      "Faixa: Spellbound | Álbum: For Those About To Rock We Salute You\n",
      "Faixa: Balls to the Wall | Álbum: Balls to the Wall\n",
      "Faixa: Fast As a Shark | Álbum: Restless and Wild\n",
      "Faixa: Restless and Wild | Álbum: Restless and Wild\n",
      "Faixa: Princess of the Dawn | Álbum: Restless and Wild\n",
      "Faixa: Go Down | Álbum: Let There Be Rock\n",
      "Faixa: Dog Eat Dog | Álbum: Let There Be Rock\n",
      "Faixa: Let There Be Rock | Álbum: Let There Be Rock\n",
      "Faixa: Bad Boy Boogie | Álbum: Let There Be Rock\n",
      "Faixa: Problem Child | Álbum: Let There Be Rock\n",
      "Faixa: Overdose | Álbum: Let There Be Rock\n"
     ]
    }
   ],
   "source": [
    "### Imprima o nome da faixa e o título do álbum das primeiras 20 faixas na tabela tracks.\n",
    "\n",
    "Albums = Base.classes.albums\n",
    "\n",
    "# Join entre tracks e albums\n",
    "stmt = (\n",
    "    select(Tracks.Name, Albums.Title)\n",
    "    .join(Albums, Tracks.AlbumId == Albums.AlbumId)\n",
    "    .limit(20)\n",
    ")\n",
    "\n",
    "for name, title in session.execute(stmt):\n",
    "    print(f\"Faixa: {name} | Álbum: {title}\")"
   ]
  },
  {
   "cell_type": "code",
   "execution_count": 17,
   "metadata": {
    "vscode": {
     "languageId": "plaintext"
    }
   },
   "outputs": [
    {
     "name": "stdout",
     "output_type": "stream",
     "text": [
      "Faixa vendida: Balls to the Wall | Quantidade: 1\n",
      "Faixa vendida: Restless and Wild | Quantidade: 1\n",
      "Faixa vendida: Put The Finger On You | Quantidade: 1\n",
      "Faixa vendida: Inject The Venom | Quantidade: 1\n",
      "Faixa vendida: Evil Walks | Quantidade: 1\n",
      "Faixa vendida: Breaking The Rules | Quantidade: 1\n",
      "Faixa vendida: Dog Eat Dog | Quantidade: 1\n",
      "Faixa vendida: Overdose | Quantidade: 1\n",
      "Faixa vendida: Love In An Elevator | Quantidade: 1\n",
      "Faixa vendida: Janie's Got A Gun | Quantidade: 1\n"
     ]
    }
   ],
   "source": [
    "### Imprima as 10 primeiras vendas de faixas da tabela invoice_items\n",
    "### Para essas 10 primeiras vendas, imprima os nomes das faixas vendidas e a quantidade vendida.\n",
    "\n",
    "InvoiceItems = Base.classes.invoice_items\n",
    "\n",
    "# Join entre invoice_items e tracks\n",
    "stmt = (\n",
    "    select(Tracks.Name, InvoiceItems.Quantity)\n",
    "    .join(Tracks, InvoiceItems.TrackId == Tracks.TrackId)\n",
    "    .limit(10)\n",
    ")\n",
    "\n",
    "for name, qty in session.execute(stmt):\n",
    "    print(f\"Faixa vendida: {name} | Quantidade: {qty}\")"
   ]
  },
  {
   "cell_type": "code",
   "execution_count": 18,
   "metadata": {
    "vscode": {
     "languageId": "plaintext"
    }
   },
   "outputs": [
    {
     "name": "stdout",
     "output_type": "stream",
     "text": [
      "Top 10 faixas mais vendidas:\n",
      "\n",
      "The Trooper: 5 vendas\n",
      "Untitled: 4 vendas\n",
      "The Number Of The Beast: 4 vendas\n",
      "Sure Know Something: 4 vendas\n",
      "Hallowed Be Thy Name: 4 vendas\n",
      "Eruption: 4 vendas\n",
      "Where Eagles Dare: 3 vendas\n",
      "Welcome Home (Sanitarium): 3 vendas\n",
      "Sweetest Thing: 3 vendas\n",
      "Surrender: 3 vendas\n"
     ]
    }
   ],
   "source": [
    "### Imprima os nomes das 10 faixas mais vendidas e quantas vezes foram vendidas.\n",
    "\n",
    "from sqlalchemy import func\n",
    "\n",
    "# Agrupa e conta vendas por faixa\n",
    "stmt = (\n",
    "    select(Tracks.Name, func.sum(InvoiceItems.Quantity).label(\"total_vendas\"))\n",
    "    .join(InvoiceItems, Tracks.TrackId == InvoiceItems.TrackId)\n",
    "    .group_by(Tracks.Name)\n",
    "    .order_by(func.sum(InvoiceItems.Quantity).desc())\n",
    "    .limit(10)\n",
    ")\n",
    "\n",
    "print(\"Top 10 faixas mais vendidas:\\n\")\n",
    "for name, total in session.execute(stmt):\n",
    "    print(f\"{name}: {total} vendas\")"
   ]
  },
  {
   "cell_type": "code",
   "execution_count": 19,
   "metadata": {
    "vscode": {
     "languageId": "plaintext"
    }
   },
   "outputs": [
    {
     "name": "stdout",
     "output_type": "stream",
     "text": [
      "Top 10 artistas com mais faixas vendidas:\n",
      "\n",
      "Iron Maiden: 140 vendas\n",
      "U2: 107 vendas\n",
      "Metallica: 91 vendas\n",
      "Led Zeppelin: 87 vendas\n",
      "Os Paralamas Do Sucesso: 45 vendas\n",
      "Deep Purple: 44 vendas\n",
      "Faith No More: 42 vendas\n",
      "Lost: 41 vendas\n",
      "Eric Clapton: 40 vendas\n",
      "R.E.M.: 39 vendas\n"
     ]
    }
   ],
   "source": [
    "### Quem são os 10 artistas que mais venderam?\n",
    "### dica: você precisa juntar as tabelas invoice_items, tracks, albums e artists\n",
    "\n",
    "Artists = Base.classes.artists\n",
    "\n",
    "stmt = (\n",
    "    select(Artists.Name, func.sum(InvoiceItems.Quantity).label(\"total_vendas\"))\n",
    "    .join(Albums, Artists.ArtistId == Albums.ArtistId)\n",
    "    .join(Tracks, Albums.AlbumId == Tracks.AlbumId)\n",
    "    .join(InvoiceItems, Tracks.TrackId == InvoiceItems.TrackId)\n",
    "    .group_by(Artists.Name)\n",
    "    .order_by(func.sum(InvoiceItems.Quantity).desc())\n",
    "    .limit(10)\n",
    ")\n",
    "\n",
    "print(\"Top 10 artistas com mais faixas vendidas:\\n\")\n",
    "for artist, total in session.execute(stmt):\n",
    "    print(f\"{artist}: {total} vendas\")"
   ]
  },
  {
   "cell_type": "code",
   "execution_count": null,
   "metadata": {},
   "outputs": [],
   "source": []
  }
 ],
 "metadata": {
  "kernelspec": {
   "display_name": "Python 3 (ipykernel)",
   "language": "python",
   "name": "python3"
  },
  "language_info": {
   "codemirror_mode": {
    "name": "ipython",
    "version": 3
   },
   "file_extension": ".py",
   "mimetype": "text/x-python",
   "name": "python",
   "nbconvert_exporter": "python",
   "pygments_lexer": "ipython3",
   "version": "3.12.3"
  }
 },
 "nbformat": 4,
 "nbformat_minor": 4
}
