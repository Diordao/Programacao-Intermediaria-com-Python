{
 "cells": [
  {
   "cell_type": "markdown",
   "metadata": {},
   "source": [
    "> Projeto Desenvolve <br>\n",
    "Programação Intermediária com Python <br>\n",
    "Profa. Camila Laranjeira (mila@projetodesenvolve.com.br) <br>\n",
    "\n",
    "# 3.11 - Data Model"
   ]
  },
  {
   "cell_type": "markdown",
   "metadata": {},
   "source": [
    "## Exercícios\n",
    "\n",
    "#### Q1. `dataclass`\n",
    "Exercício adaptado de [codechalleng.es/bites/154/](https://codechalleng.es/bites/154/) e [codechalleng.es/bites/320/](https://codechalleng.es/bites/320/).\n",
    "\n",
    "Neste desafio, você deve escrever uma `dataclass` chamada `Bite` que gerencia 3 atributos: `number`, `title` e `level`. Seus tipos são:\n",
    "* `number` - `int`, \n",
    "* `title` - `str`, \n",
    "* `level` -  classe `Enum` chamada `BiteLevel` com os atributos `Beginner`, `Intermediate`, `Advanced`. \n",
    "\n",
    "Exemplo de dado: `{'number': 154, 'title': 'Escreva uma dataclass', 'level': BiteLevel.Intermediate}`\n",
    "\n",
    "As características dessa classe são:\n",
    "* O atributo`level` tem um valor padrão `BiteLevel.Beginner`\n",
    "* Uma coleção de objetos `Bite` tem que ser ordenável somente pelo atributo `number`\n",
    "* Implemente o método especial `__str__` para imprimir o Bite na forma `f'{number} - {title} ({level})'`\n",
    "\n",
    "Teste sua classe executando o seguinte código:\n",
    "```python\n",
    "bites = []\n",
    "bites.append(Bite(154, 'Escreva uma dataclass', 'Intermediate'))\n",
    "bites.append(Bite(1, 'Some n valores'))\n",
    "bites.append(Bite(37, 'Reescreva um loop com recursão', 'Intermediate'))\n",
    "\n",
    "for b in bites.sort(): print(b)\n",
    "# Ordem esperada na saída:\n",
    "# 1 - Some n valores (Beginner)\n",
    "# 37 - Reescreva um loop com recursão (Intermediate)\n",
    "# 154 - Escreva uma dataclass (Intermediate)\n",
    "```"
   ]
  },
  {
   "cell_type": "code",
   "execution_count": 1,
   "metadata": {
    "vscode": {
     "languageId": "plaintext"
    }
   },
   "outputs": [
    {
     "name": "stdout",
     "output_type": "stream",
     "text": [
      "1 - Some n valores (Beginner)\n",
      "37 - Reescreva um loop com recursão (Intermediate)\n",
      "154 - Escreva uma dataclass (Intermediate)\n"
     ]
    }
   ],
   "source": [
    "#### Escreva sua resposta aqui\n",
    "\n",
    "from dataclasses import dataclass\n",
    "from enum import Enum\n",
    "\n",
    "# Cria uma Enum para representar os níveis de dificuldade\n",
    "class BiteLevel(Enum):\n",
    "    Beginner = \"Beginner\"\n",
    "    Intermediate = \"Intermediate\"\n",
    "    Advanced = \"Advanced\"\n",
    "\n",
    "# Cria a dataclass Bite\n",
    "@dataclass(order=True)  # 'order=True' permite comparar objetos pelo primeiro campo (number)\n",
    "class Bite:\n",
    "    number: int\n",
    "    title: str\n",
    "    level: BiteLevel = BiteLevel.Beginner  # valor padrão\n",
    "\n",
    "    def __post_init__(self):\n",
    "        # Corrige se o nível foi passado como string, transformando em Enum\n",
    "        if isinstance(self.level, str):\n",
    "            self.level = BiteLevel[self.level]\n",
    "\n",
    "    def __str__(self):\n",
    "        # Representação amigável do objeto\n",
    "        return f\"{self.number} - {self.title} ({self.level.value})\"\n",
    "\n",
    "# Teste solicitado\n",
    "if __name__ == \"__main__\":\n",
    "    bites = []\n",
    "    bites.append(Bite(154, 'Escreva uma dataclass', 'Intermediate'))\n",
    "    bites.append(Bite(1, 'Some n valores'))  # sem nível → Beginner\n",
    "    bites.append(Bite(37, 'Reescreva um loop com recursão', 'Intermediate'))\n",
    "\n",
    "    # Ordena pela dataclass (usa o número automaticamente)\n",
    "    for b in sorted(bites):\n",
    "        print(b)"
   ]
  },
  {
   "cell_type": "markdown",
   "metadata": {},
   "source": [
    "#### Q2. `Pydantic`\n",
    "> Adaptada desse [tutorial de Pydantic](https://github.com/adonath/scipy-2023-pydantic-tutorial/tree/main) criado por [Axel Donath](https://github.com/adonath) e [Nick Langellier](https://github.com/nlangellier).\n",
    "\n",
    "Observe a seguinte lista de observações da previsão do tempo em Murmansk, Russia.\n",
    "```python\n",
    "data_samples = [\n",
    "    {\n",
    "        \"date\": \"2023-05-20\",\n",
    "        \"temperature\": 62.2,\n",
    "        \"isCelsius\": False,\n",
    "        \"airQualityIndex\": \"24\",\n",
    "        \"sunriseTime\": \"01:26\",\n",
    "        \"sunsetTime\": \"00:00\",\n",
    "    },\n",
    "    {\n",
    "        \"date\": \"2023-05-21\",\n",
    "        \"temperature\": \"64.4\",\n",
    "        \"isCelsius\": \"not true\",\n",
    "        \"airQualityIndex\": 23,\n",
    "        \"sunriseTime\": \"01:10\",\n",
    "        \"sunsetTime\": \"00:16\",\n",
    "    },\n",
    "    {\n",
    "        \"date\": \"2023-05-22\",\n",
    "        \"temperature\": 14.4,\n",
    "        \"airQualityIndex\": 21,\n",
    "    },\n",
    "]\n",
    "```\n",
    "\n",
    "Escreva um script que calcule e imprima a temperatura média (em Celsius) em Murmansk para as datas fornecidas. Em seu script, você deve incluir um modelo Pydantic que registre com sucesso todos os elementos dados. Note que:\n",
    "\n",
    "* Algumas amostras estão faltando dados. Você deve decidir quando o atributo pode ter um valor padrão ou quando definí-lo como opcional (`typing.Optional`). \n",
    "* Você precisará implementar pelo menos um validador de campo para transformar atributos. Dica: teste primeiro quais vão falhar :)\n",
    "\n"
   ]
  },
  {
   "cell_type": "code",
   "execution_count": null,
   "metadata": {},
   "outputs": [],
   "source": [
    "!pip install pydantic\n",
    "\n",
    "!pip install pydantic requests plotly pandas"
   ]
  },
  {
   "cell_type": "code",
   "execution_count": 3,
   "metadata": {
    "vscode": {
     "languageId": "plaintext"
    }
   },
   "outputs": [
    {
     "name": "stdout",
     "output_type": "stream",
     "text": [
      "2023-05-20 → 16.78°C (isCelsius=False)\n",
      "2023-05-21 → 18.0°C (isCelsius=False)\n",
      "2023-05-22 → 14.4°C (isCelsius=True)\n",
      "\n",
      "Temperatura média em Murmansk: 16.39°C\n"
     ]
    }
   ],
   "source": [
    "#### Escreva sua resposta aqui\n",
    "\n",
    "from pydantic import BaseModel, field_validator\n",
    "from typing import Optional\n",
    "from datetime import datetime\n",
    "\n",
    "class Weather(BaseModel):\n",
    "    date: datetime\n",
    "    temperature: float\n",
    "    isCelsius: bool = True\n",
    "    airQualityIndex: Optional[int] = None\n",
    "    sunriseTime: Optional[str] = None\n",
    "    sunsetTime: Optional[str] = None\n",
    "\n",
    "    # Normaliza isCelsius (aceita 'true', '1', 'yes', 'not true', etc.)\n",
    "    @field_validator('isCelsius', mode='before')\n",
    "    def normalizar_is_celsius(cls, v):\n",
    "        if isinstance(v, bool):\n",
    "            return v\n",
    "        if isinstance(v, str):\n",
    "            return v.lower() in ('true', '1', 'yes')\n",
    "        return bool(v)\n",
    "\n",
    "    # Converte string de temperatura para float\n",
    "    @field_validator('temperature', mode='before')\n",
    "    def converter_para_float(cls, v):\n",
    "        return float(v)\n",
    "\n",
    "    # Pós-processamento (executa depois que todos os campos foram validados)\n",
    "    def model_post_init(self, __context):\n",
    "        \"\"\"Converte Fahrenheit → Celsius se isCelsius for False.\"\"\"\n",
    "        if not self.isCelsius:\n",
    "            self.temperature = round((self.temperature - 32) * 5 / 9, 2)\n",
    "\n",
    "# --- Dados do enunciado ---\n",
    "data_samples = [\n",
    "    {\n",
    "        \"date\": \"2023-05-20\",\n",
    "        \"temperature\": 62.2,\n",
    "        \"isCelsius\": False,\n",
    "        \"airQualityIndex\": \"24\",\n",
    "        \"sunriseTime\": \"01:26\",\n",
    "        \"sunsetTime\": \"00:00\",\n",
    "    },\n",
    "    {\n",
    "        \"date\": \"2023-05-21\",\n",
    "        \"temperature\": \"64.4\",\n",
    "        \"isCelsius\": \"not true\",\n",
    "        \"airQualityIndex\": 23,\n",
    "        \"sunriseTime\": \"01:10\",\n",
    "        \"sunsetTime\": \"00:16\",\n",
    "    },\n",
    "    {\n",
    "        \"date\": \"2023-05-22\",\n",
    "        \"temperature\": 14.4,\n",
    "        \"airQualityIndex\": 21,\n",
    "    },\n",
    "]\n",
    "\n",
    "# --- Cria as instâncias e calcula a média ---\n",
    "amostras = [Weather(**d) for d in data_samples]\n",
    "\n",
    "for s in amostras:\n",
    "    print(f\"{s.date.date()} → {s.temperature}°C (isCelsius={s.isCelsius})\")\n",
    "\n",
    "media = sum(s.temperature for s in amostras) / len(amostras)\n",
    "print(f\"\\nTemperatura média em Murmansk: {media:.2f}°C\")"
   ]
  },
  {
   "cell_type": "markdown",
   "metadata": {},
   "source": [
    "#### Q3\n",
    "> Adaptada desse [tutorial de Pydantic](https://github.com/adonath/scipy-2023-pydantic-tutorial/tree/main) criado por [Axel Donath](https://github.com/adonath) e [Nick Langellier](https://github.com/nlangellier).\n",
    "\n",
    "Na célula a seguir, coletamos dados reais de uma das principais APIs de previsão do tempo, [open-meteo](https://open-meteo.com/en/docs). Não se preocupe em entender esse código, o mais importante é entender o resultado que ele retorna, ilustrado a seguir para uma coleta da temperatura dos últimos 15 dias em Itabira -MG. Caso deseje alterar a cidade de coleta, basta alimentar a latitude e longitude desejada, como nas opções a seguir.\n",
    "* Itabira: `'latitude': -19.656655787605846, 'longitude': -43.228922960534476`\n",
    "* Bom Despacho: `'latitude': -19.726308457732443, 'longitude': -45.27462803349767`\n",
    "\n",
    "```python\n",
    "{\n",
    "  \"latitude\": -19.5,\n",
    "  \"longitude\": -43.375,\n",
    "  \"generationtime_ms\": 0.01800060272216797,\n",
    "  \"utc_offset_seconds\": 0,\n",
    "  \"timezone\": \"GMT\",\n",
    "  \"timezone_abbreviation\": \"GMT\",\n",
    "  \"elevation\": 2.0,\n",
    "  \"hourly_units\": {\n",
    "    \"time\": \"iso8601\",\n",
    "    \"temperature_2m\": \"\\u00b0C\"\n",
    "  },\n",
    "  \"hourly\": {\n",
    "    \"time\": [\n",
    "      \"2024-07-19T00:00\",\n",
    "      \"2024-07-19T01:00\",\n",
    "      \"2024-07-19T02:00\",\n",
    "      ...\n",
    "    ],\n",
    "    \"temperature_2m\": [\n",
    "      21.9,\n",
    "      20.9,\n",
    "      20.0,\n",
    "      ... \n",
    "    ]\n",
    "  }\n",
    "}\n",
    "```\n",
    "\n",
    "Você deve escrever um modelo Pydantic `OpenMeteo` que receba diretamente a resposta dessa API, através do comando:\n",
    "```python\n",
    "dados = OpenMeteo(**response)\n",
    "``` \n",
    "\n",
    "Para comportar a estrutura hierárquica desse dicionário (é um dicionário com alguns dicionários internos), você deve criar uma classe Pydantic para cada dicionário interno (`HourlyUnits` e `Hourly`), com seus respectivos atributos. Essas classes serão atributos da classe principal `OpenMeteo`, que terá também os outros atributos da resposta (`latitude`, `longitude`, etc.).\n",
    "\n"
   ]
  },
  {
   "cell_type": "code",
   "execution_count": 4,
   "metadata": {
    "vscode": {
     "languageId": "plaintext"
    }
   },
   "outputs": [
    {
     "name": "stdout",
     "output_type": "stream",
     "text": [
      "{\n",
      "  \"latitude\": -19.5,\n",
      "  \"longitude\": -43.375,\n",
      "  \"generationtime_ms\": 0.05900859832763672,\n",
      "  \"utc_offset_seconds\": 0,\n",
      "  \"timezone\": \"GMT\",\n",
      "  \"timezone_abbreviation\": \"GMT\",\n",
      "  \"elevation\": 2.0,\n",
      "  \"hourly_units\": {\n",
      "    \"time\": \"iso8601\",\n",
      "    \"temperature_2m\": \"\\u00b0C\"\n",
      "  },\n",
      "  \"hourly\": {\n",
      "    \"time\": [\n",
      "      \"2025-10-15T00:00\",\n",
      "      \"2025-10-15T01:00\",\n",
      "      \"2025-10-15T02:00\",\n",
      "      \"2025-10-15T03:00\",\n",
      "      \"2025-10-15T04:00\",\n",
      "      \"2025-10-15T05:00\",\n",
      "      \"2025-10-15T06:00\",\n",
      "      \"2025-10-15T07:00\",\n",
      "      \"2025-10-15T08:00\",\n",
      "      \"2025-10-15T09:00\",\n",
      "      \"2025-10-15T10:00\",\n",
      "      \"2025-10-15T11:00\",\n",
      "      \"2025-10-15T12:00\",\n",
      "      \"2025-10-15T13:00\",\n",
      "      \"2025-10-15T14:00\",\n",
      "      \"2025-10-15T15:00\",\n",
      "      \"2025-10-15T16:00\",\n",
      "      \"2025-10-15T17:00\",\n",
      "      \"2025-10-15T18:00\",\n",
      "      \"2025-10-15T19:00\",\n",
      "      \"2025-10-15T20:00\",\n",
      "      \"2025-10-15T21:00\",\n",
      "      \"2025-10-15T22:00\",\n",
      "      \"2025-10-15T23:00\",\n",
      "      \"2025-10-16T00:00\",\n",
      "      \"2025-10-16T01:00\",\n",
      "      \"2025-10-16T02:00\",\n",
      "      \"2025-10-16T03:00\",\n",
      "      \"2025-10-16T04:00\",\n",
      "      \"2025-10-16T05:00\",\n",
      "      \"2025-10-16T06:00\",\n",
      "      \"2025-10-16T07:00\",\n",
      "      \"2025-10-16T08:00\",\n",
      "      \"2025-10-16T09:00\",\n",
      "      \"2025-10-16T10:00\",\n",
      "      \"2025-10-16T11:00\",\n",
      "      \"2025-10-16T12:00\",\n",
      "      \"2025-10-16T13:00\",\n",
      "      \"2025-10-16T14:00\",\n",
      "      \"2025-10-16T15:00\",\n",
      "      \"2025-10-16T16:00\",\n",
      "      \"2025-10-16T17:00\",\n",
      "      \"2025-10-16T18:00\",\n",
      "      \"2025-10-16T19:00\",\n",
      "      \"2025-10-16T20:00\",\n",
      "      \"2025-10-16T21:00\",\n",
      "      \"2025-10-16T22:00\",\n",
      "      \"2025-10-16T23:00\",\n",
      "      \"2025-10-17T00:00\",\n",
      "      \"2025-10-17T01:00\",\n",
      "      \"2025-10-17T02:00\",\n",
      "      \"2025-10-17T03:00\",\n",
      "      \"2025-10-17T04:00\",\n",
      "      \"2025-10-17T05:00\",\n",
      "      \"2025-10-17T06:00\",\n",
      "      \"2025-10-17T07:00\",\n",
      "      \"2025-10-17T08:00\",\n",
      "      \"2025-10-17T09:00\",\n",
      "      \"2025-10-17T10:00\",\n",
      "      \"2025-10-17T11:00\",\n",
      "      \"2025-10-17T12:00\",\n",
      "      \"2025-10-17T13:00\",\n",
      "      \"2025-10-17T14:00\",\n",
      "      \"2025-10-17T15:00\",\n",
      "      \"2025-10-17T16:00\",\n",
      "      \"2025-10-17T17:00\",\n",
      "      \"2025-10-17T18:00\",\n",
      "      \"2025-10-17T19:00\",\n",
      "      \"2025-10-17T20:00\",\n",
      "      \"2025-10-17T21:00\",\n",
      "      \"2025-10-17T22:00\",\n",
      "      \"2025-10-17T23:00\",\n",
      "      \"2025-10-18T00:00\",\n",
      "      \"2025-10-18T01:00\",\n",
      "      \"2025-10-18T02:00\",\n",
      "      \"2025-10-18T03:00\",\n",
      "      \"2025-10-18T04:00\",\n",
      "      \"2025-10-18T05:00\",\n",
      "      \"2025-10-18T06:00\",\n",
      "      \"2025-10-18T07:00\",\n",
      "      \"2025-10-18T08:00\",\n",
      "      \"2025-10-18T09:00\",\n",
      "      \"2025-10-18T10:00\",\n",
      "      \"2025-10-18T11:00\",\n",
      "      \"2025-10-18T12:00\",\n",
      "      \"2025-10-18T13:00\",\n",
      "      \"2025-10-18T14:00\",\n",
      "      \"2025-10-18T15:00\",\n",
      "      \"2025-10-18T16:00\",\n",
      "      \"2025-10-18T17:00\",\n",
      "      \"2025-10-18T18:00\",\n",
      "      \"2025-10-18T19:00\",\n",
      "      \"2025-10-18T20:00\",\n",
      "      \"2025-10-18T21:00\",\n",
      "      \"2025-10-18T22:00\",\n",
      "      \"2025-10-18T23:00\",\n",
      "      \"2025-10-19T00:00\",\n",
      "      \"2025-10-19T01:00\",\n",
      "      \"2025-10-19T02:00\",\n",
      "      \"2025-10-19T03:00\",\n",
      "      \"2025-10-19T04:00\",\n",
      "      \"2025-10-19T05:00\",\n",
      "      \"2025-10-19T06:00\",\n",
      "      \"2025-10-19T07:00\",\n",
      "      \"2025-10-19T08:00\",\n",
      "      \"2025-10-19T09:00\",\n",
      "      \"2025-10-19T10:00\",\n",
      "      \"2025-10-19T11:00\",\n",
      "      \"2025-10-19T12:00\",\n",
      "      \"2025-10-19T13:00\",\n",
      "      \"2025-10-19T14:00\",\n",
      "      \"2025-10-19T15:00\",\n",
      "      \"2025-10-19T16:00\",\n",
      "      \"2025-10-19T17:00\",\n",
      "      \"2025-10-19T18:00\",\n",
      "      \"2025-10-19T19:00\",\n",
      "      \"2025-10-19T20:00\",\n",
      "      \"2025-10-19T21:00\",\n",
      "      \"2025-10-19T22:00\",\n",
      "      \"2025-10-19T23:00\",\n",
      "      \"2025-10-20T00:00\",\n",
      "      \"2025-10-20T01:00\",\n",
      "      \"2025-10-20T02:00\",\n",
      "      \"2025-10-20T03:00\",\n",
      "      \"2025-10-20T04:00\",\n",
      "      \"2025-10-20T05:00\",\n",
      "      \"2025-10-20T06:00\",\n",
      "      \"2025-10-20T07:00\",\n",
      "      \"2025-10-20T08:00\",\n",
      "      \"2025-10-20T09:00\",\n",
      "      \"2025-10-20T10:00\",\n",
      "      \"2025-10-20T11:00\",\n",
      "      \"2025-10-20T12:00\",\n",
      "      \"2025-10-20T13:00\",\n",
      "      \"2025-10-20T14:00\",\n",
      "      \"2025-10-20T15:00\",\n",
      "      \"2025-10-20T16:00\",\n",
      "      \"2025-10-20T17:00\",\n",
      "      \"2025-10-20T18:00\",\n",
      "      \"2025-10-20T19:00\",\n",
      "      \"2025-10-20T20:00\",\n",
      "      \"2025-10-20T21:00\",\n",
      "      \"2025-10-20T22:00\",\n",
      "      \"2025-10-20T23:00\",\n",
      "      \"2025-10-21T00:00\",\n",
      "      \"2025-10-21T01:00\",\n",
      "      \"2025-10-21T02:00\",\n",
      "      \"2025-10-21T03:00\",\n",
      "      \"2025-10-21T04:00\",\n",
      "      \"2025-10-21T05:00\",\n",
      "      \"2025-10-21T06:00\",\n",
      "      \"2025-10-21T07:00\",\n",
      "      \"2025-10-21T08:00\",\n",
      "      \"2025-10-21T09:00\",\n",
      "      \"2025-10-21T10:00\",\n",
      "      \"2025-10-21T11:00\",\n",
      "      \"2025-10-21T12:00\",\n",
      "      \"2025-10-21T13:00\",\n",
      "      \"2025-10-21T14:00\",\n",
      "      \"2025-10-21T15:00\",\n",
      "      \"2025-10-21T16:00\",\n",
      "      \"2025-10-21T17:00\",\n",
      "      \"2025-10-21T18:00\",\n",
      "      \"2025-10-21T19:00\",\n",
      "      \"2025-10-21T20:00\",\n",
      "      \"2025-10-21T21:00\",\n",
      "      \"2025-10-21T22:00\",\n",
      "      \"2025-10-21T23:00\",\n",
      "      \"2025-10-22T00:00\",\n",
      "      \"2025-10-22T01:00\",\n",
      "      \"2025-10-22T02:00\",\n",
      "      \"2025-10-22T03:00\",\n",
      "      \"2025-10-22T04:00\",\n",
      "      \"2025-10-22T05:00\",\n",
      "      \"2025-10-22T06:00\",\n",
      "      \"2025-10-22T07:00\",\n",
      "      \"2025-10-22T08:00\",\n",
      "      \"2025-10-22T09:00\",\n",
      "      \"2025-10-22T10:00\",\n",
      "      \"2025-10-22T11:00\",\n",
      "      \"2025-10-22T12:00\",\n",
      "      \"2025-10-22T13:00\",\n",
      "      \"2025-10-22T14:00\",\n",
      "      \"2025-10-22T15:00\",\n",
      "      \"2025-10-22T16:00\",\n",
      "      \"2025-10-22T17:00\",\n",
      "      \"2025-10-22T18:00\",\n",
      "      \"2025-10-22T19:00\",\n",
      "      \"2025-10-22T20:00\",\n",
      "      \"2025-10-22T21:00\",\n",
      "      \"2025-10-22T22:00\",\n",
      "      \"2025-10-22T23:00\",\n",
      "      \"2025-10-23T00:00\",\n",
      "      \"2025-10-23T01:00\",\n",
      "      \"2025-10-23T02:00\",\n",
      "      \"2025-10-23T03:00\",\n",
      "      \"2025-10-23T04:00\",\n",
      "      \"2025-10-23T05:00\",\n",
      "      \"2025-10-23T06:00\",\n",
      "      \"2025-10-23T07:00\",\n",
      "      \"2025-10-23T08:00\",\n",
      "      \"2025-10-23T09:00\",\n",
      "      \"2025-10-23T10:00\",\n",
      "      \"2025-10-23T11:00\",\n",
      "      \"2025-10-23T12:00\",\n",
      "      \"2025-10-23T13:00\",\n",
      "      \"2025-10-23T14:00\",\n",
      "      \"2025-10-23T15:00\",\n",
      "      \"2025-10-23T16:00\",\n",
      "      \"2025-10-23T17:00\",\n",
      "      \"2025-10-23T18:00\",\n",
      "      \"2025-10-23T19:00\",\n",
      "      \"2025-10-23T20:00\",\n",
      "      \"2025-10-23T21:00\",\n",
      "      \"2025-10-23T22:00\",\n",
      "      \"2025-10-23T23:00\",\n",
      "      \"2025-10-24T00:00\",\n",
      "      \"2025-10-24T01:00\",\n",
      "      \"2025-10-24T02:00\",\n",
      "      \"2025-10-24T03:00\",\n",
      "      \"2025-10-24T04:00\",\n",
      "      \"2025-10-24T05:00\",\n",
      "      \"2025-10-24T06:00\",\n",
      "      \"2025-10-24T07:00\",\n",
      "      \"2025-10-24T08:00\",\n",
      "      \"2025-10-24T09:00\",\n",
      "      \"2025-10-24T10:00\",\n",
      "      \"2025-10-24T11:00\",\n",
      "      \"2025-10-24T12:00\",\n",
      "      \"2025-10-24T13:00\",\n",
      "      \"2025-10-24T14:00\",\n",
      "      \"2025-10-24T15:00\",\n",
      "      \"2025-10-24T16:00\",\n",
      "      \"2025-10-24T17:00\",\n",
      "      \"2025-10-24T18:00\",\n",
      "      \"2025-10-24T19:00\",\n",
      "      \"2025-10-24T20:00\",\n",
      "      \"2025-10-24T21:00\",\n",
      "      \"2025-10-24T22:00\",\n",
      "      \"2025-10-24T23:00\",\n",
      "      \"2025-10-25T00:00\",\n",
      "      \"2025-10-25T01:00\",\n",
      "      \"2025-10-25T02:00\",\n",
      "      \"2025-10-25T03:00\",\n",
      "      \"2025-10-25T04:00\",\n",
      "      \"2025-10-25T05:00\",\n",
      "      \"2025-10-25T06:00\",\n",
      "      \"2025-10-25T07:00\",\n",
      "      \"2025-10-25T08:00\",\n",
      "      \"2025-10-25T09:00\",\n",
      "      \"2025-10-25T10:00\",\n",
      "      \"2025-10-25T11:00\",\n",
      "      \"2025-10-25T12:00\",\n",
      "      \"2025-10-25T13:00\",\n",
      "      \"2025-10-25T14:00\",\n",
      "      \"2025-10-25T15:00\",\n",
      "      \"2025-10-25T16:00\",\n",
      "      \"2025-10-25T17:00\",\n",
      "      \"2025-10-25T18:00\",\n",
      "      \"2025-10-25T19:00\",\n",
      "      \"2025-10-25T20:00\",\n",
      "      \"2025-10-25T21:00\",\n",
      "      \"2025-10-25T22:00\",\n",
      "      \"2025-10-25T23:00\",\n",
      "      \"2025-10-26T00:00\",\n",
      "      \"2025-10-26T01:00\",\n",
      "      \"2025-10-26T02:00\",\n",
      "      \"2025-10-26T03:00\",\n",
      "      \"2025-10-26T04:00\",\n",
      "      \"2025-10-26T05:00\",\n",
      "      \"2025-10-26T06:00\",\n",
      "      \"2025-10-26T07:00\",\n",
      "      \"2025-10-26T08:00\",\n",
      "      \"2025-10-26T09:00\",\n",
      "      \"2025-10-26T10:00\",\n",
      "      \"2025-10-26T11:00\",\n",
      "      \"2025-10-26T12:00\",\n",
      "      \"2025-10-26T13:00\",\n",
      "      \"2025-10-26T14:00\",\n",
      "      \"2025-10-26T15:00\",\n",
      "      \"2025-10-26T16:00\",\n",
      "      \"2025-10-26T17:00\",\n",
      "      \"2025-10-26T18:00\",\n",
      "      \"2025-10-26T19:00\",\n",
      "      \"2025-10-26T20:00\",\n",
      "      \"2025-10-26T21:00\",\n",
      "      \"2025-10-26T22:00\",\n",
      "      \"2025-10-26T23:00\",\n",
      "      \"2025-10-27T00:00\",\n",
      "      \"2025-10-27T01:00\",\n",
      "      \"2025-10-27T02:00\",\n",
      "      \"2025-10-27T03:00\",\n",
      "      \"2025-10-27T04:00\",\n",
      "      \"2025-10-27T05:00\",\n",
      "      \"2025-10-27T06:00\",\n",
      "      \"2025-10-27T07:00\",\n",
      "      \"2025-10-27T08:00\",\n",
      "      \"2025-10-27T09:00\",\n",
      "      \"2025-10-27T10:00\",\n",
      "      \"2025-10-27T11:00\",\n",
      "      \"2025-10-27T12:00\",\n",
      "      \"2025-10-27T13:00\",\n",
      "      \"2025-10-27T14:00\",\n",
      "      \"2025-10-27T15:00\",\n",
      "      \"2025-10-27T16:00\",\n",
      "      \"2025-10-27T17:00\",\n",
      "      \"2025-10-27T18:00\",\n",
      "      \"2025-10-27T19:00\",\n",
      "      \"2025-10-27T20:00\",\n",
      "      \"2025-10-27T21:00\",\n",
      "      \"2025-10-27T22:00\",\n",
      "      \"2025-10-27T23:00\",\n",
      "      \"2025-10-28T00:00\",\n",
      "      \"2025-10-28T01:00\",\n",
      "      \"2025-10-28T02:00\",\n",
      "      \"2025-10-28T03:00\",\n",
      "      \"2025-10-28T04:00\",\n",
      "      \"2025-10-28T05:00\",\n",
      "      \"2025-10-28T06:00\",\n",
      "      \"2025-10-28T07:00\",\n",
      "      \"2025-10-28T08:00\",\n",
      "      \"2025-10-28T09:00\",\n",
      "      \"2025-10-28T10:00\",\n",
      "      \"2025-10-28T11:00\",\n",
      "      \"2025-10-28T12:00\",\n",
      "      \"2025-10-28T13:00\",\n",
      "      \"2025-10-28T14:00\",\n",
      "      \"2025-10-28T15:00\",\n",
      "      \"2025-10-28T16:00\",\n",
      "      \"2025-10-28T17:00\",\n",
      "      \"2025-10-28T18:00\",\n",
      "      \"2025-10-28T19:00\",\n",
      "      \"2025-10-28T20:00\",\n",
      "      \"2025-10-28T21:00\",\n",
      "      \"2025-10-28T22:00\",\n",
      "      \"2025-10-28T23:00\",\n",
      "      \"2025-10-29T00:00\",\n",
      "      \"2025-10-29T01:00\",\n",
      "      \"2025-10-29T02:00\",\n",
      "      \"2025-10-29T03:00\",\n",
      "      \"2025-10-29T04:00\",\n",
      "      \"2025-10-29T05:00\",\n",
      "      \"2025-10-29T06:00\",\n",
      "      \"2025-10-29T07:00\",\n",
      "      \"2025-10-29T08:00\",\n",
      "      \"2025-10-29T09:00\",\n",
      "      \"2025-10-29T10:00\",\n",
      "      \"2025-10-29T11:00\",\n",
      "      \"2025-10-29T12:00\",\n",
      "      \"2025-10-29T13:00\",\n",
      "      \"2025-10-29T14:00\",\n",
      "      \"2025-10-29T15:00\",\n",
      "      \"2025-10-29T16:00\",\n",
      "      \"2025-10-29T17:00\",\n",
      "      \"2025-10-29T18:00\",\n",
      "      \"2025-10-29T19:00\",\n",
      "      \"2025-10-29T20:00\",\n",
      "      \"2025-10-29T21:00\",\n",
      "      \"2025-10-29T22:00\",\n",
      "      \"2025-10-29T23:00\"\n",
      "    ],\n",
      "    \"temperature_2m\": [\n",
      "      23.8,\n",
      "      23.3,\n",
      "      22.9,\n",
      "      22.7,\n",
      "      22.6,\n",
      "      22.4,\n",
      "      22.2,\n",
      "      21.9,\n",
      "      21.6,\n",
      "      21.5,\n",
      "      22.1,\n",
      "      23.3,\n",
      "      24.0,\n",
      "      24.9,\n",
      "      25.5,\n",
      "      25.3,\n",
      "      25.6,\n",
      "      26.0,\n",
      "      26.3,\n",
      "      25.9,\n",
      "      25.1,\n",
      "      24.1,\n",
      "      23.7,\n",
      "      23.3,\n",
      "      23.2,\n",
      "      23.1,\n",
      "      22.8,\n",
      "      22.6,\n",
      "      22.3,\n",
      "      22.2,\n",
      "      22.0,\n",
      "      21.9,\n",
      "      21.8,\n",
      "      21.9,\n",
      "      22.5,\n",
      "      23.4,\n",
      "      24.4,\n",
      "      25.6,\n",
      "      27.0,\n",
      "      27.8,\n",
      "      28.4,\n",
      "      28.6,\n",
      "      28.4,\n",
      "      27.9,\n",
      "      27.1,\n",
      "      25.6,\n",
      "      24.8,\n",
      "      23.9,\n",
      "      23.3,\n",
      "      23.0,\n",
      "      22.8,\n",
      "      22.6,\n",
      "      22.3,\n",
      "      22.1,\n",
      "      22.0,\n",
      "      21.8,\n",
      "      21.7,\n",
      "      21.7,\n",
      "      22.7,\n",
      "      23.8,\n",
      "      25.2,\n",
      "      26.5,\n",
      "      27.6,\n",
      "      28.1,\n",
      "      28.5,\n",
      "      28.9,\n",
      "      28.6,\n",
      "      28.3,\n",
      "      27.6,\n",
      "      26.1,\n",
      "      25.1,\n",
      "      24.2,\n",
      "      23.5,\n",
      "      23.1,\n",
      "      23.0,\n",
      "      22.8,\n",
      "      22.3,\n",
      "      21.8,\n",
      "      21.5,\n",
      "      21.5,\n",
      "      21.5,\n",
      "      21.6,\n",
      "      23.6,\n",
      "      25.5,\n",
      "      26.9,\n",
      "      28.8,\n",
      "      30.5,\n",
      "      31.9,\n",
      "      32.6,\n",
      "      33.0,\n",
      "      32.8,\n",
      "      31.9,\n",
      "      30.5,\n",
      "      29.2,\n",
      "      28.1,\n",
      "      27.0,\n",
      "      26.1,\n",
      "      25.6,\n",
      "      25.2,\n",
      "      24.9,\n",
      "      24.8,\n",
      "      24.7,\n",
      "      24.6,\n",
      "      24.3,\n",
      "      24.0,\n",
      "      24.1,\n",
      "      24.9,\n",
      "      26.1,\n",
      "      26.8,\n",
      "      26.6,\n",
      "      26.1,\n",
      "      25.4,\n",
      "      24.7,\n",
      "      24.0,\n",
      "      23.2,\n",
      "      22.1,\n",
      "      20.8,\n",
      "      19.8,\n",
      "      19.3,\n",
      "      18.9,\n",
      "      18.7,\n",
      "      18.5,\n",
      "      18.4,\n",
      "      18.2,\n",
      "      18.0,\n",
      "      17.8,\n",
      "      17.7,\n",
      "      16.9,\n",
      "      16.7,\n",
      "      16.5,\n",
      "      16.4,\n",
      "      16.3,\n",
      "      16.2,\n",
      "      16.4,\n",
      "      16.6,\n",
      "      16.8,\n",
      "      16.8,\n",
      "      16.8,\n",
      "      16.8,\n",
      "      16.8,\n",
      "      16.8,\n",
      "      16.7,\n",
      "      16.5,\n",
      "      16.2,\n",
      "      16.0,\n",
      "      15.9,\n",
      "      15.8,\n",
      "      15.8,\n",
      "      15.7,\n",
      "      15.5,\n",
      "      15.4,\n",
      "      15.3,\n",
      "      15.1,\n",
      "      15.1,\n",
      "      15.3,\n",
      "      15.7,\n",
      "      16.2,\n",
      "      16.9,\n",
      "      17.8,\n",
      "      18.4,\n",
      "      18.7,\n",
      "      18.6,\n",
      "      18.6,\n",
      "      18.5,\n",
      "      18.4,\n",
      "      18.2,\n",
      "      17.9,\n",
      "      17.7,\n",
      "      17.4,\n",
      "      17.2,\n",
      "      17.1,\n",
      "      16.9,\n",
      "      16.7,\n",
      "      16.6,\n",
      "      16.3,\n",
      "      15.9,\n",
      "      15.5,\n",
      "      15.4,\n",
      "      16.0,\n",
      "      16.9,\n",
      "      17.6,\n",
      "      25.2,\n",
      "      26.8,\n",
      "      28.0,\n",
      "      28.9,\n",
      "      29.4,\n",
      "      29.0,\n",
      "      27.2,\n",
      "      24.6,\n",
      "      22.3,\n",
      "      20.8,\n",
      "      19.6,\n",
      "      18.5,\n",
      "      17.4,\n",
      "      16.4,\n",
      "      15.5,\n",
      "      14.8,\n",
      "      14.2,\n",
      "      13.9,\n",
      "      13.6,\n",
      "      13.5,\n",
      "      14.5,\n",
      "      17.1,\n",
      "      20.6,\n",
      "      23.8,\n",
      "      26.0,\n",
      "      27.8,\n",
      "      29.1,\n",
      "      29.9,\n",
      "      30.2,\n",
      "      29.6,\n",
      "      27.7,\n",
      "      24.9,\n",
      "      22.7,\n",
      "      21.9,\n",
      "      21.8,\n",
      "      21.3,\n",
      "      20.1,\n",
      "      18.6,\n",
      "      17.3,\n",
      "      16.5,\n",
      "      15.9,\n",
      "      15.6,\n",
      "      15.3,\n",
      "      15.2,\n",
      "      16.1,\n",
      "      18.6,\n",
      "      22.1,\n",
      "      25.1,\n",
      "      27.3,\n",
      "      29.1,\n",
      "      30.5,\n",
      "      31.4,\n",
      "      31.8,\n",
      "      31.6,\n",
      "      30.4,\n",
      "      28.5,\n",
      "      26.6,\n",
      "      24.6,\n",
      "      22.5,\n",
      "      20.7,\n",
      "      19.4,\n",
      "      18.4,\n",
      "      17.6,\n",
      "      16.9,\n",
      "      16.4,\n",
      "      16.3,\n",
      "      16.4,\n",
      "      16.9,\n",
      "      18.2,\n",
      "      20.8,\n",
      "      24.3,\n",
      "      27.1,\n",
      "      28.9,\n",
      "      30.1,\n",
      "      30.7,\n",
      "      30.8,\n",
      "      30.4,\n",
      "      29.5,\n",
      "      28.0,\n",
      "      25.9,\n",
      "      24.0,\n",
      "      22.4,\n",
      "      20.9,\n",
      "      19.9,\n",
      "      19.4,\n",
      "      19.3,\n",
      "      19.2,\n",
      "      19.1,\n",
      "      19.1,\n",
      "      19.2,\n",
      "      19.3,\n",
      "      19.5,\n",
      "      20.3,\n",
      "      21.8,\n",
      "      23.9,\n",
      "      25.8,\n",
      "      27.3,\n",
      "      28.8,\n",
      "      30.0,\n",
      "      31.4,\n",
      "      32.6,\n",
      "      32.4,\n",
      "      29.3,\n",
      "      24.8,\n",
      "      21.4,\n",
      "      20.4,\n",
      "      20.6,\n",
      "      20.8,\n",
      "      20.6,\n",
      "      20.4,\n",
      "      20.2,\n",
      "      19.8,\n",
      "      19.3,\n",
      "      19.0,\n",
      "      18.7,\n",
      "      18.6,\n",
      "      19.4,\n",
      "      21.7,\n",
      "      24.9,\n",
      "      27.8,\n",
      "      30.4,\n",
      "      32.7,\n",
      "      33.2,\n",
      "      30.3,\n",
      "      25.6,\n",
      "      22.2,\n",
      "      21.5,\n",
      "      22.0,\n",
      "      22.4,\n",
      "      22.0,\n",
      "      21.4,\n",
      "      20.8,\n",
      "      20.3,\n",
      "      19.8,\n",
      "      19.5,\n",
      "      19.2,\n",
      "      19.1,\n",
      "      19.1,\n",
      "      19.0,\n",
      "      19.0,\n",
      "      20.0,\n",
      "      22.7,\n",
      "      26.4,\n",
      "      29.6,\n",
      "      31.9,\n",
      "      33.6,\n",
      "      34.9,\n",
      "      35.9,\n",
      "      36.5,\n",
      "      36.0,\n",
      "      33.6,\n",
      "      30.2,\n",
      "      27.4,\n",
      "      25.9,\n",
      "      25.0,\n",
      "      24.3,\n",
      "      23.5,\n",
      "      22.8,\n",
      "      22.3,\n",
      "      21.8,\n",
      "      21.4,\n",
      "      21.2,\n",
      "      21.0,\n",
      "      21.0,\n",
      "      21.9,\n",
      "      24.3,\n",
      "      27.6,\n",
      "      30.5,\n",
      "      32.6,\n",
      "      34.3,\n",
      "      35.6,\n",
      "      36.7,\n",
      "      37.5,\n",
      "      37.2,\n",
      "      35.2,\n",
      "      32.2,\n",
      "      29.6,\n",
      "      27.7,\n",
      "      26.1\n",
      "    ]\n",
      "  }\n",
      "}\n"
     ]
    }
   ],
   "source": [
    "import requests, json\n",
    "\n",
    "url = 'https://api.open-meteo.com/v1/forecast'\n",
    "lat, long = -19.656655787605846, -43.228922960534476\n",
    "params = {'latitude': lat, 'longitude': long, 'elevation': 2,\n",
    "          'hourly': 'temperature_2m', 'forecast_days': 15}\n",
    "response = requests.get(url, params=params).json()\n",
    "print(json.dumps(response, indent=2))"
   ]
  },
  {
   "cell_type": "code",
   "execution_count": 5,
   "metadata": {
    "vscode": {
     "languageId": "plaintext"
    }
   },
   "outputs": [
    {
     "name": "stdout",
     "output_type": "stream",
     "text": [
      "Cidade aproximada: Itabira\n",
      "Número de registros: 360\n",
      "Primeiro registro: 2025-10-15T00:00 → 23.8°C\n"
     ]
    }
   ],
   "source": [
    "#### Escreva aqui seus modelos Pydantic\n",
    "\n",
    "from pydantic import BaseModel\n",
    "from typing import List\n",
    "import requests, json\n",
    "\n",
    "# Classes auxiliares internas (aninhadas)\n",
    "class HourlyUnits(BaseModel):\n",
    "    time: str\n",
    "    temperature_2m: str\n",
    "\n",
    "class Hourly(BaseModel):\n",
    "    time: List[str]\n",
    "    temperature_2m: List[float]\n",
    "\n",
    "# Classe principal\n",
    "class OpenMeteo(BaseModel):\n",
    "    latitude: float\n",
    "    longitude: float\n",
    "    generationtime_ms: float\n",
    "    utc_offset_seconds: int\n",
    "    timezone: str\n",
    "    timezone_abbreviation: str\n",
    "    elevation: float\n",
    "    hourly_units: HourlyUnits\n",
    "    hourly: Hourly\n",
    "\n",
    "# ======================================================\n",
    "# Obtenção dos dados reais da API Open-Meteo\n",
    "# ======================================================\n",
    "\n",
    "url = 'https://api.open-meteo.com/v1/forecast'\n",
    "lat, long = -19.656655787605846, -43.228922960534476  # Itabira - MG\n",
    "params = {'latitude': lat, 'longitude': long, 'elevation': 2,\n",
    "          'hourly': 'temperature_2m', 'forecast_days': 15}\n",
    "response = requests.get(url, params=params).json()\n",
    "\n",
    "# Validação com Pydantic\n",
    "dados = OpenMeteo(**response)\n",
    "\n",
    "# Exemplo de exibição\n",
    "print(f\"Cidade aproximada: Itabira\")\n",
    "print(f\"Número de registros: {len(dados.hourly.time)}\")\n",
    "print(f\"Primeiro registro: {dados.hourly.time[0]} → {dados.hourly.temperature_2m[0]}°C\")"
   ]
  },
  {
   "cell_type": "markdown",
   "metadata": {},
   "source": [
    "#### Q4. \n",
    "\n",
    "Com os dados carregados na questão anterior plote um gráfico de linha, com a biblioteca de sua preferência, onde o eixo `x` são os timestamps (data e hora) e o eixo `y` é a temperatura medida."
   ]
  },
  {
   "cell_type": "code",
   "execution_count": 2,
   "metadata": {
    "vscode": {
     "languageId": "plaintext"
    }
   },
   "outputs": [
    {
     "data": {
      "application/vnd.plotly.v1+json": {
       "config": {
        "plotlyServerURL": "https://plot.ly"
       },
       "data": [
        {
         "hovertemplate": "Data e Hora=%{x}<br>Temperatura (°C)=%{y}<extra></extra>",
         "legendgroup": "",
         "line": {
          "color": "#636efa",
          "dash": "solid"
         },
         "marker": {
          "symbol": "circle"
         },
         "mode": "lines",
         "name": "",
         "orientation": "v",
         "showlegend": false,
         "type": "scatter",
         "x": [
          "2025-10-15T00:00",
          "2025-10-15T01:00",
          "2025-10-15T02:00",
          "2025-10-15T03:00",
          "2025-10-15T04:00",
          "2025-10-15T05:00",
          "2025-10-15T06:00",
          "2025-10-15T07:00",
          "2025-10-15T08:00",
          "2025-10-15T09:00",
          "2025-10-15T10:00",
          "2025-10-15T11:00",
          "2025-10-15T12:00",
          "2025-10-15T13:00",
          "2025-10-15T14:00",
          "2025-10-15T15:00",
          "2025-10-15T16:00",
          "2025-10-15T17:00",
          "2025-10-15T18:00",
          "2025-10-15T19:00",
          "2025-10-15T20:00",
          "2025-10-15T21:00",
          "2025-10-15T22:00",
          "2025-10-15T23:00",
          "2025-10-16T00:00",
          "2025-10-16T01:00",
          "2025-10-16T02:00",
          "2025-10-16T03:00",
          "2025-10-16T04:00",
          "2025-10-16T05:00",
          "2025-10-16T06:00",
          "2025-10-16T07:00",
          "2025-10-16T08:00",
          "2025-10-16T09:00",
          "2025-10-16T10:00",
          "2025-10-16T11:00",
          "2025-10-16T12:00",
          "2025-10-16T13:00",
          "2025-10-16T14:00",
          "2025-10-16T15:00",
          "2025-10-16T16:00",
          "2025-10-16T17:00",
          "2025-10-16T18:00",
          "2025-10-16T19:00",
          "2025-10-16T20:00",
          "2025-10-16T21:00",
          "2025-10-16T22:00",
          "2025-10-16T23:00",
          "2025-10-17T00:00",
          "2025-10-17T01:00",
          "2025-10-17T02:00",
          "2025-10-17T03:00",
          "2025-10-17T04:00",
          "2025-10-17T05:00",
          "2025-10-17T06:00",
          "2025-10-17T07:00",
          "2025-10-17T08:00",
          "2025-10-17T09:00",
          "2025-10-17T10:00",
          "2025-10-17T11:00",
          "2025-10-17T12:00",
          "2025-10-17T13:00",
          "2025-10-17T14:00",
          "2025-10-17T15:00",
          "2025-10-17T16:00",
          "2025-10-17T17:00",
          "2025-10-17T18:00",
          "2025-10-17T19:00",
          "2025-10-17T20:00",
          "2025-10-17T21:00",
          "2025-10-17T22:00",
          "2025-10-17T23:00",
          "2025-10-18T00:00",
          "2025-10-18T01:00",
          "2025-10-18T02:00",
          "2025-10-18T03:00",
          "2025-10-18T04:00",
          "2025-10-18T05:00",
          "2025-10-18T06:00",
          "2025-10-18T07:00",
          "2025-10-18T08:00",
          "2025-10-18T09:00",
          "2025-10-18T10:00",
          "2025-10-18T11:00",
          "2025-10-18T12:00",
          "2025-10-18T13:00",
          "2025-10-18T14:00",
          "2025-10-18T15:00",
          "2025-10-18T16:00",
          "2025-10-18T17:00",
          "2025-10-18T18:00",
          "2025-10-18T19:00",
          "2025-10-18T20:00",
          "2025-10-18T21:00",
          "2025-10-18T22:00",
          "2025-10-18T23:00",
          "2025-10-19T00:00",
          "2025-10-19T01:00",
          "2025-10-19T02:00",
          "2025-10-19T03:00",
          "2025-10-19T04:00",
          "2025-10-19T05:00",
          "2025-10-19T06:00",
          "2025-10-19T07:00",
          "2025-10-19T08:00",
          "2025-10-19T09:00",
          "2025-10-19T10:00",
          "2025-10-19T11:00",
          "2025-10-19T12:00",
          "2025-10-19T13:00",
          "2025-10-19T14:00",
          "2025-10-19T15:00",
          "2025-10-19T16:00",
          "2025-10-19T17:00",
          "2025-10-19T18:00",
          "2025-10-19T19:00",
          "2025-10-19T20:00",
          "2025-10-19T21:00",
          "2025-10-19T22:00",
          "2025-10-19T23:00",
          "2025-10-20T00:00",
          "2025-10-20T01:00",
          "2025-10-20T02:00",
          "2025-10-20T03:00",
          "2025-10-20T04:00",
          "2025-10-20T05:00",
          "2025-10-20T06:00",
          "2025-10-20T07:00",
          "2025-10-20T08:00",
          "2025-10-20T09:00",
          "2025-10-20T10:00",
          "2025-10-20T11:00",
          "2025-10-20T12:00",
          "2025-10-20T13:00",
          "2025-10-20T14:00",
          "2025-10-20T15:00",
          "2025-10-20T16:00",
          "2025-10-20T17:00",
          "2025-10-20T18:00",
          "2025-10-20T19:00",
          "2025-10-20T20:00",
          "2025-10-20T21:00",
          "2025-10-20T22:00",
          "2025-10-20T23:00",
          "2025-10-21T00:00",
          "2025-10-21T01:00",
          "2025-10-21T02:00",
          "2025-10-21T03:00",
          "2025-10-21T04:00",
          "2025-10-21T05:00",
          "2025-10-21T06:00",
          "2025-10-21T07:00",
          "2025-10-21T08:00",
          "2025-10-21T09:00",
          "2025-10-21T10:00",
          "2025-10-21T11:00",
          "2025-10-21T12:00",
          "2025-10-21T13:00",
          "2025-10-21T14:00",
          "2025-10-21T15:00",
          "2025-10-21T16:00",
          "2025-10-21T17:00",
          "2025-10-21T18:00",
          "2025-10-21T19:00",
          "2025-10-21T20:00",
          "2025-10-21T21:00",
          "2025-10-21T22:00",
          "2025-10-21T23:00"
         ],
         "xaxis": "x",
         "y": {
          "bdata": "MzMzMzMzOkAzMzMzMzM5QGZmZmZm5jhAzczMzMxMOECamZmZmZk3QDMzMzMzMzdAzczMzMxMN0AzMzMzM7M2QGZmZmZmZjZAzczMzMxMNkAAAAAAAIA2QM3MzMzMTDdAZmZmZmZmOEDNzMzMzEw5QAAAAAAAADpAzczMzMxMOkCamZmZmZk6QGZmZmZm5jpAAAAAAAAAO0DNzMzMzMw6QGZmZmZm5jlAmpmZmZkZOUBmZmZmZuY4QDMzMzMzszhAmpmZmZkZOEAAAAAAAIA3QAAAAAAAgDdAZmZmZmZmN0AAAAAAAAA3QM3MzMzMzDZAMzMzMzOzNkAAAAAAAIA2QM3MzMzMTDZAMzMzMzMzNkBmZmZmZuY2QJqZmZmZmTdAmpmZmZmZOEBmZmZmZmY5QM3MzMzMzDlAmpmZmZkZO0AAAAAAAAA8QJqZmZmZmTxAMzMzMzOzPECamZmZmZk8QJqZmZmZGTxAMzMzMzMzO0AAAAAAAIA6QAAAAAAAADpAAAAAAAAAOUBmZmZmZmY4QGZmZmZm5jdAzczMzMxMN0BmZmZmZuY2QJqZmZmZmTZAzczMzMxMNkAzMzMzMzM2QAAAAAAAADZAAAAAAAAANkAzMzMzM7M2QJqZmZmZmTdAmpmZmZmZOECamZmZmZk5QM3MzMzMzDpAMzMzMzMzPEDNzMzMzEw9QM3MzMzMzD1AZmZmZmbmPUCamZmZmZk9QAAAAAAAAD1AMzMzMzMzPEAAAAAAAIA7QM3MzMzMzDpAZmZmZmbmOUAzMzMzM7M4QJqZmZmZmTdAZmZmZmZmN0AzMzMzMzM3QGZmZmZm5jZAzczMzMxMNkDNzMzMzMw1QJqZmZmZmTVAMzMzMzOzNUDNzMzMzMw2QAAAAAAAADhAZmZmZmZmOUAzMzMzM7M6QJqZmZmZGTxAMzMzMzMzPUAzMzMzMzM+QGZmZmZm5j5AMzMzMzMzP0AAAAAAAAA/QGZmZmZmZj5AzczMzMzMPUCamZmZmRk9QM3MzMzMTDxAAAAAAACAO0AzMzMzM7M6QGZmZmZm5jlAMzMzMzMzOUAzMzMzM7M4QM3MzMzMTDhAAAAAAAAAOEAzMzMzM7M3QGZmZmZmZjdAAAAAAACAN0AzMzMzMzM4QDMzMzMzMzlAZmZmZmbmOUCamZmZmRk6QAAAAAAAADpAZmZmZmbmOUBmZmZmZuY5QGZmZmZm5jlAmpmZmZmZOUDNzMzMzMw4QDMzMzMzszdAzczMzMzMNkAzMzMzMzM2QDMzMzMzszVAzczMzMxMNUDNzMzMzMw0QGZmZmZmZjRAAAAAAAAANEAzMzMzM7MzQGZmZmZmZjNAzczMzMxMM0AAAAAAAAA0QJqZmZmZmTNAzczMzMxMM0AzMzMzMzMzQDMzMzMzMzNAMzMzMzMzM0AzMzMzMzMzQM3MzMzMTDNAzczMzMxMM0AzMzMzMzMzQAAAAAAAADNAZmZmZmbmMkAzMzMzM7MyQJqZmZmZmTJAZmZmZmZmMkDNzMzMzEwyQJqZmZmZGTJAZmZmZmbmMUDNzMzMzMwxQDMzMzMzszFAmpmZmZmZMUAAAAAAAIAxQGZmZmZmZjFAzczMzMxMMUAzMzMzMzMxQAAAAAAAADFAZmZmZmbmMEAAAAAAAAAxQDMzMzMzMzFAAAAAAACAMUCamZmZmRkyQDMzMzMzszJAMzMzMzMzM0BmZmZmZmYzQAAAAAAAgDNAAAAAAACAM0AAAAAAAIAzQGZmZmZmZjNAzczMzMxMM0AzMzMzMzMzQJqZmZmZGTNA",
          "dtype": "f8"
         },
         "yaxis": "y"
        }
       ],
       "layout": {
        "legend": {
         "tracegroupgap": 0
        },
        "template": {
         "data": {
          "bar": [
           {
            "error_x": {
             "color": "#f2f5fa"
            },
            "error_y": {
             "color": "#f2f5fa"
            },
            "marker": {
             "line": {
              "color": "rgb(17,17,17)",
              "width": 0.5
             },
             "pattern": {
              "fillmode": "overlay",
              "size": 10,
              "solidity": 0.2
             }
            },
            "type": "bar"
           }
          ],
          "barpolar": [
           {
            "marker": {
             "line": {
              "color": "rgb(17,17,17)",
              "width": 0.5
             },
             "pattern": {
              "fillmode": "overlay",
              "size": 10,
              "solidity": 0.2
             }
            },
            "type": "barpolar"
           }
          ],
          "carpet": [
           {
            "aaxis": {
             "endlinecolor": "#A2B1C6",
             "gridcolor": "#506784",
             "linecolor": "#506784",
             "minorgridcolor": "#506784",
             "startlinecolor": "#A2B1C6"
            },
            "baxis": {
             "endlinecolor": "#A2B1C6",
             "gridcolor": "#506784",
             "linecolor": "#506784",
             "minorgridcolor": "#506784",
             "startlinecolor": "#A2B1C6"
            },
            "type": "carpet"
           }
          ],
          "choropleth": [
           {
            "colorbar": {
             "outlinewidth": 0,
             "ticks": ""
            },
            "type": "choropleth"
           }
          ],
          "contour": [
           {
            "colorbar": {
             "outlinewidth": 0,
             "ticks": ""
            },
            "colorscale": [
             [
              0,
              "#0d0887"
             ],
             [
              0.1111111111111111,
              "#46039f"
             ],
             [
              0.2222222222222222,
              "#7201a8"
             ],
             [
              0.3333333333333333,
              "#9c179e"
             ],
             [
              0.4444444444444444,
              "#bd3786"
             ],
             [
              0.5555555555555556,
              "#d8576b"
             ],
             [
              0.6666666666666666,
              "#ed7953"
             ],
             [
              0.7777777777777778,
              "#fb9f3a"
             ],
             [
              0.8888888888888888,
              "#fdca26"
             ],
             [
              1,
              "#f0f921"
             ]
            ],
            "type": "contour"
           }
          ],
          "contourcarpet": [
           {
            "colorbar": {
             "outlinewidth": 0,
             "ticks": ""
            },
            "type": "contourcarpet"
           }
          ],
          "heatmap": [
           {
            "colorbar": {
             "outlinewidth": 0,
             "ticks": ""
            },
            "colorscale": [
             [
              0,
              "#0d0887"
             ],
             [
              0.1111111111111111,
              "#46039f"
             ],
             [
              0.2222222222222222,
              "#7201a8"
             ],
             [
              0.3333333333333333,
              "#9c179e"
             ],
             [
              0.4444444444444444,
              "#bd3786"
             ],
             [
              0.5555555555555556,
              "#d8576b"
             ],
             [
              0.6666666666666666,
              "#ed7953"
             ],
             [
              0.7777777777777778,
              "#fb9f3a"
             ],
             [
              0.8888888888888888,
              "#fdca26"
             ],
             [
              1,
              "#f0f921"
             ]
            ],
            "type": "heatmap"
           }
          ],
          "histogram": [
           {
            "marker": {
             "pattern": {
              "fillmode": "overlay",
              "size": 10,
              "solidity": 0.2
             }
            },
            "type": "histogram"
           }
          ],
          "histogram2d": [
           {
            "colorbar": {
             "outlinewidth": 0,
             "ticks": ""
            },
            "colorscale": [
             [
              0,
              "#0d0887"
             ],
             [
              0.1111111111111111,
              "#46039f"
             ],
             [
              0.2222222222222222,
              "#7201a8"
             ],
             [
              0.3333333333333333,
              "#9c179e"
             ],
             [
              0.4444444444444444,
              "#bd3786"
             ],
             [
              0.5555555555555556,
              "#d8576b"
             ],
             [
              0.6666666666666666,
              "#ed7953"
             ],
             [
              0.7777777777777778,
              "#fb9f3a"
             ],
             [
              0.8888888888888888,
              "#fdca26"
             ],
             [
              1,
              "#f0f921"
             ]
            ],
            "type": "histogram2d"
           }
          ],
          "histogram2dcontour": [
           {
            "colorbar": {
             "outlinewidth": 0,
             "ticks": ""
            },
            "colorscale": [
             [
              0,
              "#0d0887"
             ],
             [
              0.1111111111111111,
              "#46039f"
             ],
             [
              0.2222222222222222,
              "#7201a8"
             ],
             [
              0.3333333333333333,
              "#9c179e"
             ],
             [
              0.4444444444444444,
              "#bd3786"
             ],
             [
              0.5555555555555556,
              "#d8576b"
             ],
             [
              0.6666666666666666,
              "#ed7953"
             ],
             [
              0.7777777777777778,
              "#fb9f3a"
             ],
             [
              0.8888888888888888,
              "#fdca26"
             ],
             [
              1,
              "#f0f921"
             ]
            ],
            "type": "histogram2dcontour"
           }
          ],
          "mesh3d": [
           {
            "colorbar": {
             "outlinewidth": 0,
             "ticks": ""
            },
            "type": "mesh3d"
           }
          ],
          "parcoords": [
           {
            "line": {
             "colorbar": {
              "outlinewidth": 0,
              "ticks": ""
             }
            },
            "type": "parcoords"
           }
          ],
          "pie": [
           {
            "automargin": true,
            "type": "pie"
           }
          ],
          "scatter": [
           {
            "marker": {
             "line": {
              "color": "#283442"
             }
            },
            "type": "scatter"
           }
          ],
          "scatter3d": [
           {
            "line": {
             "colorbar": {
              "outlinewidth": 0,
              "ticks": ""
             }
            },
            "marker": {
             "colorbar": {
              "outlinewidth": 0,
              "ticks": ""
             }
            },
            "type": "scatter3d"
           }
          ],
          "scattercarpet": [
           {
            "marker": {
             "colorbar": {
              "outlinewidth": 0,
              "ticks": ""
             }
            },
            "type": "scattercarpet"
           }
          ],
          "scattergeo": [
           {
            "marker": {
             "colorbar": {
              "outlinewidth": 0,
              "ticks": ""
             }
            },
            "type": "scattergeo"
           }
          ],
          "scattergl": [
           {
            "marker": {
             "line": {
              "color": "#283442"
             }
            },
            "type": "scattergl"
           }
          ],
          "scattermap": [
           {
            "marker": {
             "colorbar": {
              "outlinewidth": 0,
              "ticks": ""
             }
            },
            "type": "scattermap"
           }
          ],
          "scattermapbox": [
           {
            "marker": {
             "colorbar": {
              "outlinewidth": 0,
              "ticks": ""
             }
            },
            "type": "scattermapbox"
           }
          ],
          "scatterpolar": [
           {
            "marker": {
             "colorbar": {
              "outlinewidth": 0,
              "ticks": ""
             }
            },
            "type": "scatterpolar"
           }
          ],
          "scatterpolargl": [
           {
            "marker": {
             "colorbar": {
              "outlinewidth": 0,
              "ticks": ""
             }
            },
            "type": "scatterpolargl"
           }
          ],
          "scatterternary": [
           {
            "marker": {
             "colorbar": {
              "outlinewidth": 0,
              "ticks": ""
             }
            },
            "type": "scatterternary"
           }
          ],
          "surface": [
           {
            "colorbar": {
             "outlinewidth": 0,
             "ticks": ""
            },
            "colorscale": [
             [
              0,
              "#0d0887"
             ],
             [
              0.1111111111111111,
              "#46039f"
             ],
             [
              0.2222222222222222,
              "#7201a8"
             ],
             [
              0.3333333333333333,
              "#9c179e"
             ],
             [
              0.4444444444444444,
              "#bd3786"
             ],
             [
              0.5555555555555556,
              "#d8576b"
             ],
             [
              0.6666666666666666,
              "#ed7953"
             ],
             [
              0.7777777777777778,
              "#fb9f3a"
             ],
             [
              0.8888888888888888,
              "#fdca26"
             ],
             [
              1,
              "#f0f921"
             ]
            ],
            "type": "surface"
           }
          ],
          "table": [
           {
            "cells": {
             "fill": {
              "color": "#506784"
             },
             "line": {
              "color": "rgb(17,17,17)"
             }
            },
            "header": {
             "fill": {
              "color": "#2a3f5f"
             },
             "line": {
              "color": "rgb(17,17,17)"
             }
            },
            "type": "table"
           }
          ]
         },
         "layout": {
          "annotationdefaults": {
           "arrowcolor": "#f2f5fa",
           "arrowhead": 0,
           "arrowwidth": 1
          },
          "autotypenumbers": "strict",
          "coloraxis": {
           "colorbar": {
            "outlinewidth": 0,
            "ticks": ""
           }
          },
          "colorscale": {
           "diverging": [
            [
             0,
             "#8e0152"
            ],
            [
             0.1,
             "#c51b7d"
            ],
            [
             0.2,
             "#de77ae"
            ],
            [
             0.3,
             "#f1b6da"
            ],
            [
             0.4,
             "#fde0ef"
            ],
            [
             0.5,
             "#f7f7f7"
            ],
            [
             0.6,
             "#e6f5d0"
            ],
            [
             0.7,
             "#b8e186"
            ],
            [
             0.8,
             "#7fbc41"
            ],
            [
             0.9,
             "#4d9221"
            ],
            [
             1,
             "#276419"
            ]
           ],
           "sequential": [
            [
             0,
             "#0d0887"
            ],
            [
             0.1111111111111111,
             "#46039f"
            ],
            [
             0.2222222222222222,
             "#7201a8"
            ],
            [
             0.3333333333333333,
             "#9c179e"
            ],
            [
             0.4444444444444444,
             "#bd3786"
            ],
            [
             0.5555555555555556,
             "#d8576b"
            ],
            [
             0.6666666666666666,
             "#ed7953"
            ],
            [
             0.7777777777777778,
             "#fb9f3a"
            ],
            [
             0.8888888888888888,
             "#fdca26"
            ],
            [
             1,
             "#f0f921"
            ]
           ],
           "sequentialminus": [
            [
             0,
             "#0d0887"
            ],
            [
             0.1111111111111111,
             "#46039f"
            ],
            [
             0.2222222222222222,
             "#7201a8"
            ],
            [
             0.3333333333333333,
             "#9c179e"
            ],
            [
             0.4444444444444444,
             "#bd3786"
            ],
            [
             0.5555555555555556,
             "#d8576b"
            ],
            [
             0.6666666666666666,
             "#ed7953"
            ],
            [
             0.7777777777777778,
             "#fb9f3a"
            ],
            [
             0.8888888888888888,
             "#fdca26"
            ],
            [
             1,
             "#f0f921"
            ]
           ]
          },
          "colorway": [
           "#636efa",
           "#EF553B",
           "#00cc96",
           "#ab63fa",
           "#FFA15A",
           "#19d3f3",
           "#FF6692",
           "#B6E880",
           "#FF97FF",
           "#FECB52"
          ],
          "font": {
           "color": "#f2f5fa"
          },
          "geo": {
           "bgcolor": "rgb(17,17,17)",
           "lakecolor": "rgb(17,17,17)",
           "landcolor": "rgb(17,17,17)",
           "showlakes": true,
           "showland": true,
           "subunitcolor": "#506784"
          },
          "hoverlabel": {
           "align": "left"
          },
          "hovermode": "closest",
          "mapbox": {
           "style": "dark"
          },
          "paper_bgcolor": "rgb(17,17,17)",
          "plot_bgcolor": "rgb(17,17,17)",
          "polar": {
           "angularaxis": {
            "gridcolor": "#506784",
            "linecolor": "#506784",
            "ticks": ""
           },
           "bgcolor": "rgb(17,17,17)",
           "radialaxis": {
            "gridcolor": "#506784",
            "linecolor": "#506784",
            "ticks": ""
           }
          },
          "scene": {
           "xaxis": {
            "backgroundcolor": "rgb(17,17,17)",
            "gridcolor": "#506784",
            "gridwidth": 2,
            "linecolor": "#506784",
            "showbackground": true,
            "ticks": "",
            "zerolinecolor": "#C8D4E3"
           },
           "yaxis": {
            "backgroundcolor": "rgb(17,17,17)",
            "gridcolor": "#506784",
            "gridwidth": 2,
            "linecolor": "#506784",
            "showbackground": true,
            "ticks": "",
            "zerolinecolor": "#C8D4E3"
           },
           "zaxis": {
            "backgroundcolor": "rgb(17,17,17)",
            "gridcolor": "#506784",
            "gridwidth": 2,
            "linecolor": "#506784",
            "showbackground": true,
            "ticks": "",
            "zerolinecolor": "#C8D4E3"
           }
          },
          "shapedefaults": {
           "line": {
            "color": "#f2f5fa"
           }
          },
          "sliderdefaults": {
           "bgcolor": "#C8D4E3",
           "bordercolor": "rgb(17,17,17)",
           "borderwidth": 1,
           "tickwidth": 0
          },
          "ternary": {
           "aaxis": {
            "gridcolor": "#506784",
            "linecolor": "#506784",
            "ticks": ""
           },
           "baxis": {
            "gridcolor": "#506784",
            "linecolor": "#506784",
            "ticks": ""
           },
           "bgcolor": "rgb(17,17,17)",
           "caxis": {
            "gridcolor": "#506784",
            "linecolor": "#506784",
            "ticks": ""
           }
          },
          "title": {
           "x": 0.05
          },
          "updatemenudefaults": {
           "bgcolor": "#506784",
           "borderwidth": 0
          },
          "xaxis": {
           "automargin": true,
           "gridcolor": "#283442",
           "linecolor": "#506784",
           "ticks": "",
           "title": {
            "standoff": 15
           },
           "zerolinecolor": "#283442",
           "zerolinewidth": 2
          },
          "yaxis": {
           "automargin": true,
           "gridcolor": "#283442",
           "linecolor": "#506784",
           "ticks": "",
           "title": {
            "standoff": 15
           },
           "zerolinecolor": "#283442",
           "zerolinewidth": 2
          }
         }
        },
        "title": {
         "text": "Temperatura por hora em Itabira - MG (Open-Meteo)"
        },
        "xaxis": {
         "anchor": "y",
         "domain": [
          0,
          1
         ],
         "title": {
          "text": "Data e Hora"
         }
        },
        "yaxis": {
         "anchor": "x",
         "domain": [
          0,
          1
         ],
         "title": {
          "text": "Temperatura (°C)"
         }
        }
       }
      },
      "image/png": "[encoded data removed]"
     },
     "metadata": {},
     "output_type": "display_data"
    }
   ],
   "source": [
    "#### Escreva aqui a sua resposta\n",
    "\n",
    "import requests\n",
    "import pandas as pd\n",
    "import plotly.express as px\n",
    "\n",
    "# Requisição da API Open-Meteo para Itabira\n",
    "url = \"https://api.open-meteo.com/v1/forecast?latitude=-19.6237&longitude=-42.1379&hourly=temperature_2m\"\n",
    "resposta = requests.get(url)      # Faz a requisição\n",
    "dados = resposta.json()           # Converte o JSON em dicionário Python\n",
    "\n",
    "# Cria o DataFrame com horários e temperaturas\n",
    "df = pd.DataFrame({\n",
    "    \"time\": dados[\"hourly\"][\"time\"],\n",
    "    \"temperature\": dados[\"hourly\"][\"temperature_2m\"]\n",
    "})\n",
    "\n",
    "# Cria o gráfico interativo\n",
    "fig = px.line(df, x=\"time\", y=\"temperature\",\n",
    "              title=\"Temperatura por hora em Itabira - MG (Open-Meteo)\",\n",
    "              labels={\"time\": \"Data e Hora\", \"temperature\": \"Temperatura (°C)\"},\n",
    "              template=\"plotly_dark\")\n",
    "\n",
    "fig.show()"
   ]
  },
  {
   "cell_type": "code",
   "execution_count": null,
   "metadata": {},
   "outputs": [],
   "source": []
  }
 ],
 "metadata": {
  "kernelspec": {
   "display_name": "Python 3 (ipykernel)",
   "language": "python",
   "name": "python3"
  },
  "language_info": {
   "codemirror_mode": {
    "name": "ipython",
    "version": 3
   },
   "file_extension": ".py",
   "mimetype": "text/x-python",
   "name": "python",
   "nbconvert_exporter": "python",
   "pygments_lexer": "ipython3",
   "version": "3.12.3"
  }
 },
 "nbformat": 4,
 "nbformat_minor": 4
}
