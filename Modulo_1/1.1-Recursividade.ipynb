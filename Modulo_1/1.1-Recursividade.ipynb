{
 "cells": [
  {
   "cell_type": "markdown",
   "id": "c87bc264",
   "metadata": {},
   "source": [
    "> Projeto Desenvolve <br>\n",
    "Programação Intermediária com Python <br>\n",
    "Profa. Camila Laranjeira (mila@projetodesenvolve.com.br) <br>\n",
    "\n",
    "# 1.1 - Recursividade"
   ]
  },
  {
   "cell_type": "markdown",
   "id": "02e47197",
   "metadata": {},
   "source": [
    "## Exercícios:\n",
    "\n",
    "#### **Q1**. \n",
    "Faça um procedimento recursivo que receba dois valores inteiros `a` e `b` e imprime o intervalo fechado entre eles. Se `a > b` imprima uma mensagem de erro.\n",
    "\n",
    "| Entrada |  Saída |\n",
    "| ------- | ------ |\n",
    "| 1 10    | 1 2 3 4 5 6 7 8 9 10 |\n",
    "| -5 1    | -5 -4 -3 -2 -1 |\n",
    "| 5 -5    | Valores invalidos |\n",
    "| 17 20   | 17 18 19 20 |"
   ]
  },
  {
   "cell_type": "code",
   "execution_count": 24,
   "id": "e89a9966",
   "metadata": {},
   "outputs": [
    {
     "name": "stdout",
     "output_type": "stream",
     "text": [
      "1 2 3 4 5 6 7 8 9 10 "
     ]
    }
   ],
   "source": [
    "def intervalo_fechado(a, b):\n",
    "    if a > b:\n",
    "        print(f'{a} é maior do que {b}')\n",
    "        return\n",
    "\n",
    "    ## caso base / condição de parada\n",
    "    if a == b:\n",
    "        print(a, end = ' ')\n",
    "\n",
    "    ## passo recursivo\n",
    "    else:\n",
    "        print(a, end = ' ')\n",
    "        intervalo_fechado(a+1, b)\n",
    "\n",
    "intervalo_fechado(1,10)"
   ]
  },
  {
   "cell_type": "markdown",
   "id": "b48196ed",
   "metadata": {},
   "source": [
    "---\n",
    "\n",
    "\n",
    "#### **Q2**. \n",
    "Mudando **apenas uma linha**, altere o código anterior para imprimir o intervalo invertido.\n",
    "\n",
    "| Entrada |  Saída |\n",
    "| ------- | ------ |\n",
    "| 1 10    | 10 9 8 7 6 5 4 3 2 1 |\n",
    "| -5 1    | -1 -2 -3 -4 -5 |\n",
    "| 5 -5    | Valores invalidos |\n",
    "| 17 20   | 20 19 18 17 |"
   ]
  },
  {
   "cell_type": "code",
   "execution_count": 23,
   "id": "4d0c21b4",
   "metadata": {},
   "outputs": [
    {
     "name": "stdout",
     "output_type": "stream",
     "text": [
      "10 9 8 7 6 5 4 3 2 1 "
     ]
    }
   ],
   "source": [
    "def intervalo_fechado(a, b):\n",
    "    if a > b:\n",
    "        print(f'{a} é maior do que {b}')\n",
    "        return\n",
    "\n",
    "    ## caso base / condição de parada\n",
    "    if a == b:\n",
    "        print(a, end = ' ')\n",
    "\n",
    "    ## passo recursivo\n",
    "    else:\n",
    "        intervalo_fechado(a+1, b)\n",
    "        print(a, end = ' ')        \n",
    "\n",
    "intervalo_fechado(1,10)"
   ]
  },
  {
   "cell_type": "markdown",
   "id": "be727074",
   "metadata": {},
   "source": [
    "\n",
    "\n",
    "---\n",
    "\n",
    "\n",
    "#### **Q3**. \n",
    "Escreva uma função recursiva que recebe um inteiro `n > 1` e calcula a soma dos valores entre `n` e `1`.\n",
    "\n",
    "| Entrada |  Saída |\n",
    "| ------- | ------ |\n",
    "| 5   | 15 |\n",
    "| 13  | 78 |"
   ]
  },
  {
   "cell_type": "code",
   "execution_count": 22,
   "id": "c4da98b8",
   "metadata": {},
   "outputs": [
    {
     "data": {
      "text/plain": [
       "15"
      ]
     },
     "execution_count": 22,
     "metadata": {},
     "output_type": "execute_result"
    }
   ],
   "source": [
    "def somatorio(n):\n",
    "    \n",
    "    ## caso base / condição de parada\n",
    "    if n == 1:\n",
    "        return n\n",
    "\n",
    "    ## passo recursivo\n",
    "    else:\n",
    "        return n + somatorio(n-1)        \n",
    "\n",
    "somatorio(5)"
   ]
  },
  {
   "cell_type": "markdown",
   "id": "4142b276",
   "metadata": {},
   "source": [
    "\n",
    "\n",
    "---\n",
    "\n",
    "\n",
    "#### **Q4**.  \n",
    "\n",
    "Escreva uma função recursiva que recebe um inteiro `n` e verifica se `n`é um valor primo, ou seja, se é divisível apenas por si mesmo e por `1`."
   ]
  },
  {
   "cell_type": "code",
   "execution_count": 2,
   "id": "4c96eb2d",
   "metadata": {},
   "outputs": [
    {
     "name": "stdout",
     "output_type": "stream",
     "text": [
      "True\n",
      "True\n",
      "False\n",
      "False\n"
     ]
    }
   ],
   "source": [
    "def eh_primo(n, divisor=None):\n",
    "    \n",
    "    if divisor is None:\n",
    "        divisor = n - 1\n",
    "\n",
    "    # Caso base 1: se n < 2, não é primo (0 e 1 não são primos)\n",
    "    if n < 2:\n",
    "        return False\n",
    "\n",
    "    # Caso base 2: se divisor chega a 1, significa que não encontrou divisores → é primo\n",
    "    if divisor == 1:\n",
    "        return True\n",
    "\n",
    "    # Caso base 3: se n é divisível pelo divisor → não é primo\n",
    "    if n % divisor == 0:\n",
    "        return False\n",
    "\n",
    "    # Passo recursivo: chama novamente com divisor - 1\n",
    "    return eh_primo(n, divisor - 1)\n",
    "\n",
    "# Exemplos de uso:\n",
    "print(eh_primo(2))\n",
    "print(eh_primo(13))\n",
    "print(eh_primo(9))\n",
    "print(eh_primo(1))"
   ]
  },
  {
   "cell_type": "markdown",
   "id": "2a0ae81c",
   "metadata": {},
   "source": [
    "\n",
    "\n",
    "---\n",
    "\n",
    "\n",
    "#### **Q5**. \n",
    "Implemente uma função recursiva que recebe um número inteiro decimal e retorna sua representação binária como uma string. Para realizar essa conversão, utilize o método de divisão sucessiva, onde você divide o número decimal por 2 e coleta os restos até que o quociente seja zero. A ordem dos restos coletados, de baixo para cima, forma o número binário correspondente.\n",
    "\n",
    "**Exemplo de Conversão:**\n",
    "\n",
    "Para converter o número decimal 13 para binário:\n",
    "```\n",
    "13 ÷ 2 = 6, resto 1\n",
    "6 ÷ 2 = 3, resto 0\n",
    "3 ÷ 2 = 1, resto 1\n",
    "1 ÷ 2 = 0, resto 1\n",
    "```\n",
    "Lendo os restos de baixo para cima, obtemos o número binário `1101`."
   ]
  },
  {
   "cell_type": "code",
   "execution_count": 5,
   "id": "a7d954f0",
   "metadata": {},
   "outputs": [
    {
     "name": "stdout",
     "output_type": "stream",
     "text": [
      "1101\n",
      "1000\n",
      "0\n",
      "1\n"
     ]
    }
   ],
   "source": [
    "def decimal_para_binario(n):\n",
    "   \n",
    "    # Caso base\n",
    "    if n < 2:\n",
    "        return str(n)\n",
    "\n",
    "    # Passo recursivo\n",
    "    return decimal_para_binario(n // 2) + str(n % 2)\n",
    "\n",
    "# Exemplos de uso:\n",
    "print(decimal_para_binario(13))\n",
    "print(decimal_para_binario(8))\n",
    "print(decimal_para_binario(0))\n",
    "print(decimal_para_binario(1))"
   ]
  },
  {
   "cell_type": "markdown",
   "id": "0f500709",
   "metadata": {},
   "source": [
    "\n",
    "\n",
    "---\n",
    "\n",
    "\n",
    "#### **Extra**: \n",
    "\n",
    "Implemente uma função recursiva em Python que realiza a travessia em pré-ordem de uma árvore binária representada por listas aninhadas. Na travessia em pré-ordem (ou pré-fixada), o nó raiz é visitado primeiro, seguido pela subárvore esquerda e, por fim, pela subárvore direita. A questão fixa as constantes `RAIZ_IDX, ESQ_IDX, DIR_IDX` representando os índices da lista onde se encontra o valor raíz, o nó a esquerda e o nó a direita.\n",
    "\n",
    "```\n",
    "# Representação visual da árvore\n",
    "       4\n",
    "      / \\\n",
    "     2   5\n",
    "    / \\\n",
    "   1   3\n",
    "```"
   ]
  },
  {
   "cell_type": "code",
   "execution_count": 7,
   "id": "10df4831",
   "metadata": {},
   "outputs": [
    {
     "name": "stdout",
     "output_type": "stream",
     "text": [
      "4 2 1 3 5 "
     ]
    }
   ],
   "source": [
    "# Índices fixos para facilitar leitura da árvore\n",
    "RAIZ_IDX, ESQ_IDX, DIR_IDX = 0, 1, 2\n",
    "\n",
    "def pre_ordem(arvore):\n",
    "    # Explicação:\n",
    "    # A função percorre a árvore em pré-ordem: \n",
    "    # 1️⃣ Visita o nó atual (raiz),\n",
    "    # 2️⃣ depois percorre a subárvore esquerda,\n",
    "    # 3️⃣ depois percorre a subárvore direita.\n",
    "\n",
    "    # Caso base: se o nó for None, retorna (árvore vazia)\n",
    "    if arvore is None:\n",
    "        return\n",
    "\n",
    "    # Passo 1️⃣: visita o nó (imprime o valor da raiz)\n",
    "    print(arvore[RAIZ_IDX], end=' ')\n",
    "\n",
    "    # Passo 2️⃣: percorre recursivamente a subárvore esquerda\n",
    "    pre_ordem(arvore[ESQ_IDX])\n",
    "\n",
    "    # Passo 3️⃣: percorre recursivamente a subárvore direita\n",
    "    pre_ordem(arvore[DIR_IDX])\n",
    "\n",
    "\n",
    "# Exemplo de árvore binária\n",
    "arvore = [\n",
    "    4,              # raíz, nível 0\n",
    "    [               # ramo da esquerda, nível 1\n",
    "        2,          # valor filho esquerda\n",
    "        [1, None, None],   # ramo da esquerda, nível 2\n",
    "        [3, None, None]    # ramo da direita, nível 2\n",
    "    ],\n",
    "    [               # ramo da direita, nível 1\n",
    "        5,          # valor filho da direita\n",
    "        None,              # ramo da esquerda, nível 2\n",
    "        None               # ramo da direita, nível 2\n",
    "    ]\n",
    "]\n",
    "\n",
    "# Teste\n",
    "pre_ordem(arvore)  # Saída esperada: 4 2 1 3 5"
   ]
  },
  {
   "cell_type": "code",
   "execution_count": null,
   "id": "8f0a45e4-3718-4720-b9d9-94b3dd37a268",
   "metadata": {},
   "outputs": [],
   "source": []
  }
 ],
 "metadata": {
  "kernelspec": {
   "display_name": "Python 3 (ipykernel)",
   "language": "python",
   "name": "python3"
  },
  "language_info": {
   "codemirror_mode": {
    "name": "ipython",
    "version": 3
   },
   "file_extension": ".py",
   "mimetype": "text/x-python",
   "name": "python",
   "nbconvert_exporter": "python",
   "pygments_lexer": "ipython3",
   "version": "3.12.3"
  }
 },
 "nbformat": 4,
 "nbformat_minor": 5
}
